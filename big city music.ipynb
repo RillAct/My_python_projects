{
 "cells": [
  {
   "cell_type": "markdown",
   "metadata": {
    "toc": true
   },
   "source": [
    "<h1>Содержание<span class=\"tocSkip\"></span></h1>\n",
    "<div class=\"toc\"><ul class=\"toc-item\"><li><span><a href=\"#Обзор-данных\" data-toc-modified-id=\"Обзор-данных-1\"><span class=\"toc-item-num\">1&nbsp;&nbsp;</span>Обзор данных</a></span></li><li><span><a href=\"#Предобработка-данных\" data-toc-modified-id=\"Предобработка-данных-2\"><span class=\"toc-item-num\">2&nbsp;&nbsp;</span>Предобработка данных</a></span><ul class=\"toc-item\"><li><span><a href=\"#Переименование-столбцов\" data-toc-modified-id=\"Переименование-столбцов-2.1\"><span class=\"toc-item-num\">2.1&nbsp;&nbsp;</span>Переименование столбцов</a></span></li><li><span><a href=\"#Обработка-пропущенных-значений\" data-toc-modified-id=\"Обработка-пропущенных-значений-2.2\"><span class=\"toc-item-num\">2.2&nbsp;&nbsp;</span>Обработка пропущенных значений</a></span></li><li><span><a href=\"#Обработка-дубликатов\" data-toc-modified-id=\"Обработка-дубликатов-2.3\"><span class=\"toc-item-num\">2.3&nbsp;&nbsp;</span>Обработка дубликатов</a></span></li></ul></li><li><span><a href=\"#Проверка-гипотез\" data-toc-modified-id=\"Проверка-гипотез-3\"><span class=\"toc-item-num\">3&nbsp;&nbsp;</span>Проверка гипотез</a></span><ul class=\"toc-item\"><li><span><a href=\"#Сравнение-поведения-пользователей-двух-столиц\" data-toc-modified-id=\"Сравнение-поведения-пользователей-двух-столиц-3.1\"><span class=\"toc-item-num\">3.1&nbsp;&nbsp;</span>Сравнение поведения пользователей двух столиц</a></span></li><li><span><a href=\"#Музыка-в-начале-и-в-конце-недели\" data-toc-modified-id=\"Музыка-в-начале-и-в-конце-недели-3.2\"><span class=\"toc-item-num\">3.2&nbsp;&nbsp;</span>Музыка в начале и в конце недели</a></span></li><li><span><a href=\"#Жанровые-предпочтения-в-Москве-и-Петербурге\" data-toc-modified-id=\"Жанровые-предпочтения-в-Москве-и-Петербурге-3.3\"><span class=\"toc-item-num\">3.3&nbsp;&nbsp;</span>Жанровые предпочтения в Москве и Петербурге</a></span></li></ul></li><li><span><a href=\"#Итоги-исследования\" data-toc-modified-id=\"Итоги-исследования-4\"><span class=\"toc-item-num\">4&nbsp;&nbsp;</span>Итоги исследования</a></span></li></ul></div>"
   ]
  },
  {
   "cell_type": "markdown",
   "metadata": {
    "deletable": false,
    "editable": false,
    "id": "E0vqbgi9ay0H"
   },
   "source": [
    "# "
   ]
  },
  {
   "cell_type": "markdown",
   "metadata": {
    "editable": false,
    "id": "E0vqbgi9ay0H"
   },
   "source": [
    "# Яндекс Музыка"
   ]
  },
  {
   "cell_type": "markdown",
   "metadata": {
    "deletable": false,
    "editable": false,
    "id": "VUC88oWjTJw2"
   },
   "source": [
    "Сравнение Москвы и Петербурга окружено мифами. Например:\n",
    " * Москва — мегаполис, подчинённый жёсткому ритму рабочей недели;\n",
    " * Петербург — культурная столица, со своими вкусами.\n",
    "\n",
    "На данных Яндекс Музыки вы сравните поведение пользователей двух столиц.\n",
    "\n",
    "**Цель исследования** — проверьте три гипотезы:\n",
    "1. Активность пользователей зависит от дня недели. Причём в Москве и Петербурге это проявляется по-разному.\n",
    "2. В понедельник утром в Москве преобладают одни жанры, а в Петербурге — другие. Так же и вечером пятницы преобладают разные жанры — в зависимости от города.\n",
    "3. Москва и Петербург предпочитают разные жанры музыки. В Москве чаще слушают поп-музыку, в Петербурге — русский рэп.\n",
    "\n",
    "**Ход исследования**\n",
    "\n",
    "Данные о поведении пользователей вы получите из файла `yandex_music_project.csv`. О качестве данных ничего не известно. Поэтому перед проверкой гипотез понадобится обзор данных.\n",
    "\n",
    "Вы проверите данные на ошибки и оцените их влияние на исследование. Затем, на этапе предобработки вы поищете возможность исправить самые критичные ошибки данных.\n",
    "\n",
    "Таким образом, исследование пройдёт в три этапа:\n",
    " 1. Обзор данных.\n",
    " 2. Предобработка данных.\n",
    " 3. Проверка гипотез.\n",
    "\n"
   ]
  },
  {
   "cell_type": "markdown",
   "metadata": {
    "deletable": false,
    "editable": false,
    "id": "Ml1hmfXC_Zcs"
   },
   "source": [
    "## Обзор данных\n",
    "\n",
    "Составьте первое представление о данных Яндекс Музыки.\n",
    "\n",
    "\n"
   ]
  },
  {
   "cell_type": "markdown",
   "metadata": {
    "deletable": false,
    "editable": false,
    "id": "57eAOGIz_Zcs",
    "tags": [
     "start_task"
    ]
   },
   "source": [
    "**Задание 1**"
   ]
  },
  {
   "cell_type": "code",
   "execution_count": 1,
   "metadata": {
    "deletable": false,
    "id": "AXN7PHPN_Zcs"
   },
   "outputs": [],
   "source": [
    "import pandas as pd # импортирую библиотеку pandas \n",
    "from IPython.display import display # Импорттирую метод display для вывода таблиц"
   ]
  },
  {
   "cell_type": "markdown",
   "metadata": {
    "deletable": false,
    "editable": false,
    "id": "SG23P8tt_Zcs",
    "tags": [
     "start_task"
    ]
   },
   "source": [
    "**Задание 2**"
   ]
  },
  {
   "cell_type": "code",
   "execution_count": 2,
   "metadata": {
    "deletable": false,
    "id": "fFVu7vqh_Zct"
   },
   "outputs": [],
   "source": [
    "df = pd.read_csv('yandex_music_project.csv') # чтение файла с данными и сохранение в df"
   ]
  },
  {
   "cell_type": "markdown",
   "metadata": {
    "deletable": false,
    "editable": false,
    "id": "rDoOMd3uTqnZ",
    "tags": [
     "start_task"
    ]
   },
   "source": [
    "**Задание 3**"
   ]
  },
  {
   "cell_type": "code",
   "execution_count": 3,
   "metadata": {
    "deletable": false,
    "id": "oWTVX3gW_Zct"
   },
   "outputs": [
    {
     "data": {
      "text/html": [
       "<div>\n",
       "<style scoped>\n",
       "    .dataframe tbody tr th:only-of-type {\n",
       "        vertical-align: middle;\n",
       "    }\n",
       "\n",
       "    .dataframe tbody tr th {\n",
       "        vertical-align: top;\n",
       "    }\n",
       "\n",
       "    .dataframe thead th {\n",
       "        text-align: right;\n",
       "    }\n",
       "</style>\n",
       "<table border=\"1\" class=\"dataframe\">\n",
       "  <thead>\n",
       "    <tr style=\"text-align: right;\">\n",
       "      <th></th>\n",
       "      <th>userID</th>\n",
       "      <th>Track</th>\n",
       "      <th>artist</th>\n",
       "      <th>genre</th>\n",
       "      <th>City</th>\n",
       "      <th>time</th>\n",
       "      <th>Day</th>\n",
       "    </tr>\n",
       "  </thead>\n",
       "  <tbody>\n",
       "    <tr>\n",
       "      <th>0</th>\n",
       "      <td>FFB692EC</td>\n",
       "      <td>Kamigata To Boots</td>\n",
       "      <td>The Mass Missile</td>\n",
       "      <td>rock</td>\n",
       "      <td>Saint-Petersburg</td>\n",
       "      <td>20:28:33</td>\n",
       "      <td>Wednesday</td>\n",
       "    </tr>\n",
       "    <tr>\n",
       "      <th>1</th>\n",
       "      <td>55204538</td>\n",
       "      <td>Delayed Because of Accident</td>\n",
       "      <td>Andreas Rönnberg</td>\n",
       "      <td>rock</td>\n",
       "      <td>Moscow</td>\n",
       "      <td>14:07:09</td>\n",
       "      <td>Friday</td>\n",
       "    </tr>\n",
       "    <tr>\n",
       "      <th>2</th>\n",
       "      <td>20EC38</td>\n",
       "      <td>Funiculì funiculà</td>\n",
       "      <td>Mario Lanza</td>\n",
       "      <td>pop</td>\n",
       "      <td>Saint-Petersburg</td>\n",
       "      <td>20:58:07</td>\n",
       "      <td>Wednesday</td>\n",
       "    </tr>\n",
       "    <tr>\n",
       "      <th>3</th>\n",
       "      <td>A3DD03C9</td>\n",
       "      <td>Dragons in the Sunset</td>\n",
       "      <td>Fire + Ice</td>\n",
       "      <td>folk</td>\n",
       "      <td>Saint-Petersburg</td>\n",
       "      <td>08:37:09</td>\n",
       "      <td>Monday</td>\n",
       "    </tr>\n",
       "    <tr>\n",
       "      <th>4</th>\n",
       "      <td>E2DC1FAE</td>\n",
       "      <td>Soul People</td>\n",
       "      <td>Space Echo</td>\n",
       "      <td>dance</td>\n",
       "      <td>Moscow</td>\n",
       "      <td>08:34:34</td>\n",
       "      <td>Monday</td>\n",
       "    </tr>\n",
       "    <tr>\n",
       "      <th>5</th>\n",
       "      <td>842029A1</td>\n",
       "      <td>Преданная</td>\n",
       "      <td>IMPERVTOR</td>\n",
       "      <td>rusrap</td>\n",
       "      <td>Saint-Petersburg</td>\n",
       "      <td>13:09:41</td>\n",
       "      <td>Friday</td>\n",
       "    </tr>\n",
       "    <tr>\n",
       "      <th>6</th>\n",
       "      <td>4CB90AA5</td>\n",
       "      <td>True</td>\n",
       "      <td>Roman Messer</td>\n",
       "      <td>dance</td>\n",
       "      <td>Moscow</td>\n",
       "      <td>13:00:07</td>\n",
       "      <td>Wednesday</td>\n",
       "    </tr>\n",
       "    <tr>\n",
       "      <th>7</th>\n",
       "      <td>F03E1C1F</td>\n",
       "      <td>Feeling This Way</td>\n",
       "      <td>Polina Griffith</td>\n",
       "      <td>dance</td>\n",
       "      <td>Moscow</td>\n",
       "      <td>20:47:49</td>\n",
       "      <td>Wednesday</td>\n",
       "    </tr>\n",
       "    <tr>\n",
       "      <th>8</th>\n",
       "      <td>8FA1D3BE</td>\n",
       "      <td>И вновь продолжается бой</td>\n",
       "      <td>NaN</td>\n",
       "      <td>ruspop</td>\n",
       "      <td>Moscow</td>\n",
       "      <td>09:17:40</td>\n",
       "      <td>Friday</td>\n",
       "    </tr>\n",
       "    <tr>\n",
       "      <th>9</th>\n",
       "      <td>E772D5C0</td>\n",
       "      <td>Pessimist</td>\n",
       "      <td>NaN</td>\n",
       "      <td>dance</td>\n",
       "      <td>Saint-Petersburg</td>\n",
       "      <td>21:20:49</td>\n",
       "      <td>Wednesday</td>\n",
       "    </tr>\n",
       "  </tbody>\n",
       "</table>\n",
       "</div>"
      ],
      "text/plain": [
       "     userID                        Track            artist   genre  \\\n",
       "0  FFB692EC            Kamigata To Boots  The Mass Missile    rock   \n",
       "1  55204538  Delayed Because of Accident  Andreas Rönnberg    rock   \n",
       "2    20EC38            Funiculì funiculà       Mario Lanza     pop   \n",
       "3  A3DD03C9        Dragons in the Sunset        Fire + Ice    folk   \n",
       "4  E2DC1FAE                  Soul People        Space Echo   dance   \n",
       "5  842029A1                    Преданная         IMPERVTOR  rusrap   \n",
       "6  4CB90AA5                         True      Roman Messer   dance   \n",
       "7  F03E1C1F             Feeling This Way   Polina Griffith   dance   \n",
       "8  8FA1D3BE     И вновь продолжается бой               NaN  ruspop   \n",
       "9  E772D5C0                    Pessimist               NaN   dance   \n",
       "\n",
       "             City        time        Day  \n",
       "0  Saint-Petersburg  20:28:33  Wednesday  \n",
       "1            Moscow  14:07:09     Friday  \n",
       "2  Saint-Petersburg  20:58:07  Wednesday  \n",
       "3  Saint-Petersburg  08:37:09     Monday  \n",
       "4            Moscow  08:34:34     Monday  \n",
       "5  Saint-Petersburg  13:09:41     Friday  \n",
       "6            Moscow  13:00:07  Wednesday  \n",
       "7            Moscow  20:47:49  Wednesday  \n",
       "8            Moscow  09:17:40     Friday  \n",
       "9  Saint-Petersburg  21:20:49  Wednesday  "
      ]
     },
     "execution_count": 3,
     "metadata": {},
     "output_type": "execute_result"
    }
   ],
   "source": [
    "df.head(10) # получение первых 10 строк таблицы df для знакомства с данными"
   ]
  },
  {
   "cell_type": "markdown",
   "metadata": {
    "deletable": false,
    "editable": false,
    "id": "EO73Kwic_Zct",
    "tags": [
     "start_task"
    ]
   },
   "source": [
    "**Задание 4**"
   ]
  },
  {
   "cell_type": "code",
   "execution_count": 4,
   "metadata": {
    "deletable": false,
    "id": "DSf2kIb-_Zct"
   },
   "outputs": [
    {
     "name": "stdout",
     "output_type": "stream",
     "text": [
      "<class 'pandas.core.frame.DataFrame'>\n",
      "RangeIndex: 65079 entries, 0 to 65078\n",
      "Data columns (total 7 columns):\n",
      " #   Column    Non-Null Count  Dtype \n",
      "---  ------    --------------  ----- \n",
      " 0     userID  65079 non-null  object\n",
      " 1   Track     63848 non-null  object\n",
      " 2   artist    57876 non-null  object\n",
      " 3   genre     63881 non-null  object\n",
      " 4     City    65079 non-null  object\n",
      " 5   time      65079 non-null  object\n",
      " 6   Day       65079 non-null  object\n",
      "dtypes: object(7)\n",
      "memory usage: 3.5+ MB\n"
     ]
    }
   ],
   "source": [
    "df.info() # получение общей информации о данных в таблице df"
   ]
  },
  {
   "cell_type": "markdown",
   "metadata": {
    "deletable": false,
    "editable": false,
    "id": "TaQ2Iwbr_Zct"
   },
   "source": [
    "Количество значений в столбцах различается. Значит, в данных есть пропущенные значения."
   ]
  },
  {
   "cell_type": "markdown",
   "metadata": {
    "deletable": false,
    "editable": false,
    "id": "4P0UCWzswgEm",
    "tags": [
     "start_task"
    ]
   },
   "source": [
    "**Задание 5**"
   ]
  },
  {
   "cell_type": "markdown",
   "metadata": {
    "id": "c137-ZstwgEm"
   },
   "source": [
    "Также в колонке userID нет разделения нижним подчёркиванием. Более правильным был бы вариант 'user_id'\n"
   ]
  },
  {
   "cell_type": "markdown",
   "metadata": {
    "deletable": false,
    "editable": false,
    "id": "MCB6-dXG_Zct"
   },
   "source": [
    "**Выводы**\n",
    "\n",
    "В каждой строке таблицы — данные о прослушанном треке. Часть колонок описывает саму композицию: название, исполнителя и жанр. Остальные данные рассказывают о пользователе: из какого он города, когда он слушал музыку.\n",
    "\n",
    "Предварительно можно утверждать, что данных достаточно для проверки гипотез. Но встречаются пропуски в данных, а в названиях колонок — расхождения с хорошим стилем.\n",
    "\n",
    "Чтобы двигаться дальше, нужно устранить проблемы в данных."
   ]
  },
  {
   "cell_type": "markdown",
   "metadata": {
    "deletable": false,
    "editable": false,
    "id": "SjYF6Ub9_Zct"
   },
   "source": [
    "## Предобработка данных"
   ]
  },
  {
   "cell_type": "markdown",
   "metadata": {
    "deletable": false,
    "editable": false,
    "id": "dIaKXr29_Zct",
    "tags": [
     "start_task"
    ]
   },
   "source": [
    "### Переименование столбцов\n",
    "\n",
    "**Задание 6**"
   ]
  },
  {
   "cell_type": "code",
   "execution_count": 5,
   "metadata": {
    "deletable": false,
    "id": "oKOTdF_Q_Zct"
   },
   "outputs": [
    {
     "data": {
      "text/plain": [
       "Index(['  userID', 'Track', 'artist', 'genre', '  City  ', 'time', 'Day'], dtype='object')"
      ]
     },
     "execution_count": 5,
     "metadata": {},
     "output_type": "execute_result"
    }
   ],
   "source": [
    "df.columns # перечень названий столбцов таблицы df, таким способом легко можно оценить нарушение стиля в названиях столбцов."
   ]
  },
  {
   "cell_type": "markdown",
   "metadata": {
    "deletable": false,
    "editable": false,
    "id": "zj5534cv_Zct",
    "tags": [
     "start_task"
    ]
   },
   "source": [
    "**Задание 7**"
   ]
  },
  {
   "cell_type": "code",
   "execution_count": 6,
   "metadata": {
    "deletable": false,
    "id": "ISlFqs5y_Zct"
   },
   "outputs": [],
   "source": [
    "# переименовываем столбцы:\n",
    "df.rename(columns = {'  userID':'user_id', 'Track':'track','  City  ':'city', 'Day':'day'}, inplace = True )"
   ]
  },
  {
   "cell_type": "markdown",
   "metadata": {
    "deletable": false,
    "editable": false,
    "id": "1dqbh00J_Zct",
    "tags": [
     "start_task"
    ]
   },
   "source": [
    "**Задание 8**"
   ]
  },
  {
   "cell_type": "code",
   "execution_count": 7,
   "metadata": {
    "deletable": false,
    "id": "d4NOAmTW_Zct"
   },
   "outputs": [
    {
     "data": {
      "text/plain": [
       "Index(['user_id', 'track', 'artist', 'genre', 'city', 'time', 'day'], dtype='object')"
      ]
     },
     "execution_count": 7,
     "metadata": {},
     "output_type": "execute_result"
    }
   ],
   "source": [
    "df.columns # проверка результатов - столбцы были переименованны."
   ]
  },
  {
   "cell_type": "markdown",
   "metadata": {
    "deletable": false,
    "editable": false,
    "id": "5ISfbcfY_Zct",
    "tags": [
     "start_task"
    ]
   },
   "source": [
    "### Обработка пропущенных значений\n",
    "\n",
    "**Задание 9**"
   ]
  },
  {
   "cell_type": "code",
   "execution_count": 8,
   "metadata": {
    "deletable": false,
    "id": "RskX29qr_Zct"
   },
   "outputs": [
    {
     "data": {
      "text/plain": [
       "user_id       0\n",
       "track      1231\n",
       "artist     7203\n",
       "genre      1198\n",
       "city          0\n",
       "time          0\n",
       "day           0\n",
       "dtype: int64"
      ]
     },
     "execution_count": 8,
     "metadata": {},
     "output_type": "execute_result"
    }
   ],
   "source": [
    "df.isnull().sum() # подсчитаем наличие пропусков"
   ]
  },
  {
   "cell_type": "markdown",
   "metadata": {
    "deletable": false,
    "editable": false,
    "id": "fSv2laPA_Zct",
    "tags": [
     "start_task"
    ]
   },
   "source": [
    "**Задание 10**"
   ]
  },
  {
   "cell_type": "code",
   "execution_count": 9,
   "metadata": {
    "deletable": false,
    "id": "KplB5qWs_Zct"
   },
   "outputs": [],
   "source": [
    "columns_to_replace = ['track','artist','genre']\n",
    "for i in columns_to_replace:\n",
    "    df[i]= df[i].fillna('unknown') # заменим пропущенные значения на 'unknown'"
   ]
  },
  {
   "cell_type": "markdown",
   "metadata": {
    "deletable": false,
    "editable": false,
    "id": "Ilsm-MZo_Zct",
    "tags": [
     "start_task"
    ]
   },
   "source": [
    "**Задание 11**"
   ]
  },
  {
   "cell_type": "code",
   "execution_count": 10,
   "metadata": {
    "deletable": false,
    "id": "Tq4nYRX4_Zct"
   },
   "outputs": [
    {
     "data": {
      "text/plain": [
       "user_id    0\n",
       "track      0\n",
       "artist     0\n",
       "genre      0\n",
       "city       0\n",
       "time       0\n",
       "day        0\n",
       "dtype: int64"
      ]
     },
     "execution_count": 10,
     "metadata": {},
     "output_type": "execute_result"
    }
   ],
   "source": [
    "df.isnull().sum() # проверка на отсутствие пропусков после изминения в DataFrame. Пустых значений не осталось."
   ]
  },
  {
   "cell_type": "markdown",
   "metadata": {
    "deletable": false,
    "editable": false,
    "id": "BWKRtBJ3_Zct",
    "tags": [
     "start_task"
    ]
   },
   "source": [
    "### Обработка дубликатов\n",
    "\n",
    "**Задание 12**"
   ]
  },
  {
   "cell_type": "code",
   "execution_count": 11,
   "metadata": {
    "deletable": false,
    "id": "36eES_S0_Zct"
   },
   "outputs": [
    {
     "data": {
      "text/plain": [
       "3826"
      ]
     },
     "execution_count": 11,
     "metadata": {},
     "output_type": "execute_result"
    }
   ],
   "source": [
    "df.duplicated().sum() # подсчитаем явные дубликаты"
   ]
  },
  {
   "cell_type": "markdown",
   "metadata": {
    "deletable": false,
    "editable": false,
    "id": "Ot25h6XR_Zct",
    "tags": [
     "start_task"
    ]
   },
   "source": [
    "**Задание 13**"
   ]
  },
  {
   "cell_type": "code",
   "execution_count": 12,
   "metadata": {
    "deletable": false,
    "id": "exFHq6tt_Zct"
   },
   "outputs": [],
   "source": [
    "df = df.drop_duplicates().reset_index(drop=True) # удаляем явные дубликаты, создаём новые индексы и удаляем старые"
   ]
  },
  {
   "cell_type": "markdown",
   "metadata": {
    "deletable": false,
    "editable": false,
    "id": "Im2YwBEG_Zct",
    "tags": [
     "start_task"
    ]
   },
   "source": [
    "**Задание 14**"
   ]
  },
  {
   "cell_type": "code",
   "execution_count": 13,
   "metadata": {
    "deletable": false,
    "id": "-8PuNWQ0_Zct"
   },
   "outputs": [
    {
     "data": {
      "text/plain": [
       "0"
      ]
     },
     "execution_count": 13,
     "metadata": {},
     "output_type": "execute_result"
    }
   ],
   "source": [
    "df.duplicated().sum() # повторная проверка на отсутствие явных дубликатов показывает, что дубликатов нет"
   ]
  },
  {
   "cell_type": "markdown",
   "metadata": {
    "deletable": false,
    "editable": false,
    "id": "eSjWwsOh_Zct",
    "tags": [
     "start_task"
    ]
   },
   "source": [
    "**Задание 15**"
   ]
  },
  {
   "cell_type": "code",
   "execution_count": 14,
   "metadata": {
    "deletable": false,
    "id": "JIUcqzZN_Zct"
   },
   "outputs": [
    {
     "data": {
      "text/plain": [
       "array(['acid', 'acoustic', 'action', 'adult', 'africa', 'afrikaans',\n",
       "       'alternative', 'alternativepunk', 'ambient', 'americana',\n",
       "       'animated', 'anime', 'arabesk', 'arabic', 'arena',\n",
       "       'argentinetango', 'art', 'audiobook', 'author', 'avantgarde',\n",
       "       'axé', 'baile', 'balkan', 'beats', 'bigroom', 'black', 'bluegrass',\n",
       "       'blues', 'bollywood', 'bossa', 'brazilian', 'breakbeat', 'breaks',\n",
       "       'broadway', 'cantautori', 'cantopop', 'canzone', 'caribbean',\n",
       "       'caucasian', 'celtic', 'chamber', 'chanson', 'children', 'chill',\n",
       "       'chinese', 'choral', 'christian', 'christmas', 'classical',\n",
       "       'classicmetal', 'club', 'colombian', 'comedy', 'conjazz',\n",
       "       'contemporary', 'country', 'cuban', 'dance', 'dancehall',\n",
       "       'dancepop', 'dark', 'death', 'deep', 'deutschrock', 'deutschspr',\n",
       "       'dirty', 'disco', 'dnb', 'documentary', 'downbeat', 'downtempo',\n",
       "       'drum', 'dub', 'dubstep', 'eastern', 'easy', 'electronic',\n",
       "       'electropop', 'emo', 'entehno', 'epicmetal', 'estrada', 'ethnic',\n",
       "       'eurofolk', 'european', 'experimental', 'extrememetal', 'fado',\n",
       "       'fairytail', 'film', 'fitness', 'flamenco', 'folk', 'folklore',\n",
       "       'folkmetal', 'folkrock', 'folktronica', 'forró', 'frankreich',\n",
       "       'französisch', 'french', 'funk', 'future', 'gangsta', 'garage',\n",
       "       'german', 'ghazal', 'gitarre', 'glitch', 'gospel', 'gothic',\n",
       "       'grime', 'grunge', 'gypsy', 'handsup', \"hard'n'heavy\", 'hardcore',\n",
       "       'hardstyle', 'hardtechno', 'hip', 'hip-hop', 'hiphop',\n",
       "       'historisch', 'holiday', 'hop', 'horror', 'house', 'hymn', 'idm',\n",
       "       'independent', 'indian', 'indie', 'indipop', 'industrial',\n",
       "       'inspirational', 'instrumental', 'international', 'irish', 'jam',\n",
       "       'japanese', 'jazz', 'jewish', 'jpop', 'jungle', 'k-pop',\n",
       "       'karadeniz', 'karaoke', 'kayokyoku', 'korean', 'laiko', 'latin',\n",
       "       'latino', 'leftfield', 'local', 'lounge', 'loungeelectronic',\n",
       "       'lovers', 'malaysian', 'mandopop', 'marschmusik', 'meditative',\n",
       "       'mediterranean', 'melodic', 'metal', 'metalcore', 'mexican',\n",
       "       'middle', 'minimal', 'miscellaneous', 'modern', 'mood', 'mpb',\n",
       "       'muslim', 'native', 'neoklassik', 'neue', 'new', 'newage',\n",
       "       'newwave', 'nu', 'nujazz', 'numetal', 'oceania', 'old', 'opera',\n",
       "       'orchestral', 'other', 'piano', 'podcasts', 'pop', 'popdance',\n",
       "       'popelectronic', 'popeurodance', 'poprussian', 'post',\n",
       "       'posthardcore', 'postrock', 'power', 'progmetal', 'progressive',\n",
       "       'psychedelic', 'punjabi', 'punk', 'quebecois', 'ragga', 'ram',\n",
       "       'rancheras', 'rap', 'rave', 'reggae', 'reggaeton', 'regional',\n",
       "       'relax', 'religious', 'retro', 'rhythm', 'rnb', 'rnr', 'rock',\n",
       "       'rockabilly', 'rockalternative', 'rockindie', 'rockother',\n",
       "       'romance', 'roots', 'ruspop', 'rusrap', 'rusrock', 'russian',\n",
       "       'salsa', 'samba', 'scenic', 'schlager', 'self', 'sertanejo',\n",
       "       'shanson', 'shoegazing', 'showtunes', 'singer', 'ska', 'skarock',\n",
       "       'slow', 'smooth', 'soft', 'soul', 'soulful', 'sound', 'soundtrack',\n",
       "       'southern', 'specialty', 'speech', 'spiritual', 'sport',\n",
       "       'stonerrock', 'surf', 'swing', 'synthpop', 'synthrock',\n",
       "       'sängerportrait', 'tango', 'tanzorchester', 'taraftar', 'tatar',\n",
       "       'tech', 'techno', 'teen', 'thrash', 'top', 'traditional',\n",
       "       'tradjazz', 'trance', 'tribal', 'trip', 'triphop', 'tropical',\n",
       "       'türk', 'türkçe', 'ukrrock', 'unknown', 'urban', 'uzbek',\n",
       "       'variété', 'vi', 'videogame', 'vocal', 'western', 'world',\n",
       "       'worldbeat', 'ïîï', 'электроника'], dtype=object)"
      ]
     },
     "execution_count": 14,
     "metadata": {},
     "output_type": "execute_result"
    }
   ],
   "source": [
    "df.sort_values(by = 'genre', ascending = True)['genre'].unique() # просмотр уникальных отсортированных названий жанров"
   ]
  },
  {
   "cell_type": "markdown",
   "metadata": {
    "deletable": false,
    "editable": false,
    "id": "qej-Qmuo_Zct",
    "tags": [
     "start_task"
    ]
   },
   "source": [
    "**Задание 16**"
   ]
  },
  {
   "cell_type": "code",
   "execution_count": 15,
   "metadata": {
    "deletable": false,
    "id": "ErNDkmns_Zct"
   },
   "outputs": [],
   "source": [
    "# устранение неявных дубликатов\n",
    "\n",
    "def replace_wrong_values(wrong_values, correct_value): # на вход функции подаются список неправильных значений и строка с правильным значением\n",
    "    for wrong_value in wrong_values: # перебираем неправильные имена\n",
    "        df['genre'] =  df['genre'].replace(wrong_value, correct_value) # и для каждого неправильного имени вызываем метод replace()\n",
    "\n",
    "duplicates = ['hip', 'hop', 'hip-hop'] # список неправильных имён\n",
    "genre = 'hiphop' # правильное имя\n",
    "replace_wrong_values(duplicates, genre) # вызов функции, replace() внутри будет вызван 3 раза\n",
    "                                        \n",
    "                                        \n"
   ]
  },
  {
   "cell_type": "markdown",
   "metadata": {
    "deletable": false,
    "editable": false,
    "id": "zQKF16_RG15m",
    "tags": [
     "start_task"
    ]
   },
   "source": [
    "**Задание 17**"
   ]
  },
  {
   "cell_type": "code",
   "execution_count": 16,
   "metadata": {
    "deletable": false,
    "id": "wvixALnFG15m"
   },
   "outputs": [
    {
     "data": {
      "text/plain": [
       "array(['acid', 'acoustic', 'action', 'adult', 'africa', 'afrikaans',\n",
       "       'alternative', 'alternativepunk', 'ambient', 'americana',\n",
       "       'animated', 'anime', 'arabesk', 'arabic', 'arena',\n",
       "       'argentinetango', 'art', 'audiobook', 'author', 'avantgarde',\n",
       "       'axé', 'baile', 'balkan', 'beats', 'bigroom', 'black', 'bluegrass',\n",
       "       'blues', 'bollywood', 'bossa', 'brazilian', 'breakbeat', 'breaks',\n",
       "       'broadway', 'cantautori', 'cantopop', 'canzone', 'caribbean',\n",
       "       'caucasian', 'celtic', 'chamber', 'chanson', 'children', 'chill',\n",
       "       'chinese', 'choral', 'christian', 'christmas', 'classical',\n",
       "       'classicmetal', 'club', 'colombian', 'comedy', 'conjazz',\n",
       "       'contemporary', 'country', 'cuban', 'dance', 'dancehall',\n",
       "       'dancepop', 'dark', 'death', 'deep', 'deutschrock', 'deutschspr',\n",
       "       'dirty', 'disco', 'dnb', 'documentary', 'downbeat', 'downtempo',\n",
       "       'drum', 'dub', 'dubstep', 'eastern', 'easy', 'electronic',\n",
       "       'electropop', 'emo', 'entehno', 'epicmetal', 'estrada', 'ethnic',\n",
       "       'eurofolk', 'european', 'experimental', 'extrememetal', 'fado',\n",
       "       'fairytail', 'film', 'fitness', 'flamenco', 'folk', 'folklore',\n",
       "       'folkmetal', 'folkrock', 'folktronica', 'forró', 'frankreich',\n",
       "       'französisch', 'french', 'funk', 'future', 'gangsta', 'garage',\n",
       "       'german', 'ghazal', 'gitarre', 'glitch', 'gospel', 'gothic',\n",
       "       'grime', 'grunge', 'gypsy', 'handsup', \"hard'n'heavy\", 'hardcore',\n",
       "       'hardstyle', 'hardtechno', 'hiphop', 'historisch', 'holiday',\n",
       "       'horror', 'house', 'hymn', 'idm', 'independent', 'indian', 'indie',\n",
       "       'indipop', 'industrial', 'inspirational', 'instrumental',\n",
       "       'international', 'irish', 'jam', 'japanese', 'jazz', 'jewish',\n",
       "       'jpop', 'jungle', 'k-pop', 'karadeniz', 'karaoke', 'kayokyoku',\n",
       "       'korean', 'laiko', 'latin', 'latino', 'leftfield', 'local',\n",
       "       'lounge', 'loungeelectronic', 'lovers', 'malaysian', 'mandopop',\n",
       "       'marschmusik', 'meditative', 'mediterranean', 'melodic', 'metal',\n",
       "       'metalcore', 'mexican', 'middle', 'minimal', 'miscellaneous',\n",
       "       'modern', 'mood', 'mpb', 'muslim', 'native', 'neoklassik', 'neue',\n",
       "       'new', 'newage', 'newwave', 'nu', 'nujazz', 'numetal', 'oceania',\n",
       "       'old', 'opera', 'orchestral', 'other', 'piano', 'podcasts', 'pop',\n",
       "       'popdance', 'popelectronic', 'popeurodance', 'poprussian', 'post',\n",
       "       'posthardcore', 'postrock', 'power', 'progmetal', 'progressive',\n",
       "       'psychedelic', 'punjabi', 'punk', 'quebecois', 'ragga', 'ram',\n",
       "       'rancheras', 'rap', 'rave', 'reggae', 'reggaeton', 'regional',\n",
       "       'relax', 'religious', 'retro', 'rhythm', 'rnb', 'rnr', 'rock',\n",
       "       'rockabilly', 'rockalternative', 'rockindie', 'rockother',\n",
       "       'romance', 'roots', 'ruspop', 'rusrap', 'rusrock', 'russian',\n",
       "       'salsa', 'samba', 'scenic', 'schlager', 'self', 'sertanejo',\n",
       "       'shanson', 'shoegazing', 'showtunes', 'singer', 'ska', 'skarock',\n",
       "       'slow', 'smooth', 'soft', 'soul', 'soulful', 'sound', 'soundtrack',\n",
       "       'southern', 'specialty', 'speech', 'spiritual', 'sport',\n",
       "       'stonerrock', 'surf', 'swing', 'synthpop', 'synthrock',\n",
       "       'sängerportrait', 'tango', 'tanzorchester', 'taraftar', 'tatar',\n",
       "       'tech', 'techno', 'teen', 'thrash', 'top', 'traditional',\n",
       "       'tradjazz', 'trance', 'tribal', 'trip', 'triphop', 'tropical',\n",
       "       'türk', 'türkçe', 'ukrrock', 'unknown', 'urban', 'uzbek',\n",
       "       'variété', 'vi', 'videogame', 'vocal', 'western', 'world',\n",
       "       'worldbeat', 'ïîï', 'электроника'], dtype=object)"
      ]
     },
     "execution_count": 16,
     "metadata": {},
     "output_type": "execute_result"
    }
   ],
   "source": [
    "df.sort_values(by = 'genre', ascending = True)['genre'].unique() # проверка на отсутствие неявных дубликатов"
   ]
  },
  {
   "cell_type": "markdown",
   "metadata": {
    "deletable": false,
    "editable": false,
    "id": "jz6a9-7HQUDd"
   },
   "source": [
    "**Выводы**\n",
    "\n",
    "Предобработка обнаружила три проблемы в данных:\n",
    "\n",
    "- нарушения в стиле заголовков,\n",
    "- пропущенные значения,\n",
    "- дубликаты — явные и неявные.\n",
    "\n",
    "Вы исправили заголовки, чтобы упростить работу с таблицей. Без дубликатов исследование станет более точным.\n",
    "\n",
    "Пропущенные значения вы заменили на `'unknown'`. Ещё предстоит увидеть, не повредят ли исследованию пропуски в колонке `genre`.\n",
    "\n",
    "Теперь можно перейти к проверке гипотез."
   ]
  },
  {
   "cell_type": "markdown",
   "metadata": {
    "deletable": false,
    "editable": false,
    "id": "WttZHXH0SqKk"
   },
   "source": [
    "## Проверка гипотез"
   ]
  },
  {
   "cell_type": "markdown",
   "metadata": {
    "deletable": false,
    "editable": false,
    "id": "Im936VVi_Zcu"
   },
   "source": [
    "### Сравнение поведения пользователей двух столиц"
   ]
  },
  {
   "cell_type": "markdown",
   "metadata": {
    "deletable": false,
    "editable": false,
    "id": "nwt_MuaL_Zcu"
   },
   "source": [
    "Первая гипотеза утверждает, что пользователи по-разному слушают музыку в Москве и Санкт-Петербурге. Проверим это предположение по данным о трёх днях недели — понедельнике, среде и пятнице. Для этого:\n",
    "\n",
    "* Разделим пользователей Москвы и Санкт-Петербурга.\n",
    "* Сравним, сколько треков послушала каждая группа пользователей в понедельник, среду и пятницу.\n"
   ]
  },
  {
   "cell_type": "markdown",
   "metadata": {
    "deletable": false,
    "id": "8Dw_YMmT_Zcu",
    "tags": [
     "start_task"
    ]
   },
   "source": [
    "**Задание 18**\n",
    "\n"
   ]
  },
  {
   "cell_type": "code",
   "execution_count": 17,
   "metadata": {
    "deletable": false,
    "id": "0_Qs96oh_Zcu"
   },
   "outputs": [
    {
     "name": "stdout",
     "output_type": "stream",
     "text": [
      "city\n",
      "Moscow              42741\n",
      "Saint-Petersburg    18512\n",
      "Name: user_id, dtype: int64\n"
     ]
    }
   ],
   "source": [
    "# проведём подсчёт прослушиваний в каждом городе\n",
    "listening_number = df.groupby('city')['user_id'].count()\n",
    "print(listening_number)"
   ]
  },
  {
   "cell_type": "markdown",
   "metadata": {
    "id": "dzli3w8o_Zcu",
    "tags": [
     "start_task"
    ]
   },
   "source": [
    "**Задание 19**\n"
   ]
  },
  {
   "cell_type": "code",
   "execution_count": 18,
   "metadata": {
    "deletable": false,
    "id": "uZMKjiJz_Zcu"
   },
   "outputs": [
    {
     "name": "stdout",
     "output_type": "stream",
     "text": [
      "day\n",
      "Friday       21840\n",
      "Monday       21354\n",
      "Wednesday    18059\n",
      "Name: user_id, dtype: int64\n"
     ]
    }
   ],
   "source": [
    "# подсчитаем прослушивания в каждый из трёх дней\n",
    "listening_number = df.groupby('day')['user_id'].count()\n",
    "print(listening_number)"
   ]
  },
  {
   "cell_type": "markdown",
   "metadata": {
    "deletable": false,
    "editable": false,
    "id": "POzs8bGa_Zcu",
    "tags": [
     "start_task"
    ]
   },
   "source": [
    "**Задание 20**"
   ]
  },
  {
   "cell_type": "code",
   "execution_count": 19,
   "metadata": {
    "deletable": false,
    "id": "Nz3GdQB1_Zcu"
   },
   "outputs": [],
   "source": [
    "# Создадим функцию для быстрых запросов через неё к нужным для иследования данным в DataFrame\n",
    "def number_tracks(day, city):\n",
    "    track_list = df[df['day'] == day]  # выбираем только строки с переменой day в столбце day \n",
    "    track_list = track_list[track_list['city'] == city]['user_id']  # добавим фильтр только по строкам track_list со значением переменной city в столбце city и обратимся к столбцу user_id \n",
    "    track_list_count = track_list.count() # подсчитаем количество строк в user_id после фильтрации\n",
    "    return track_list_count  # возвращаем значение функции для запросов через аргументы, чтобы собрать данные для новой таблицы\n",
    "\n",
    "\n",
    "\n"
   ]
  },
  {
   "cell_type": "markdown",
   "metadata": {
    "deletable": false,
    "editable": false,
    "id": "ytf7xFrFJQ2r",
    "tags": [
     "start_task"
    ]
   },
   "source": [
    "**Задание 21**"
   ]
  },
  {
   "cell_type": "code",
   "execution_count": 20,
   "metadata": {
    "deletable": false,
    "id": "rJcRATNQ_Zcu"
   },
   "outputs": [
    {
     "data": {
      "text/plain": [
       "15740"
      ]
     },
     "execution_count": 20,
     "metadata": {},
     "output_type": "execute_result"
    }
   ],
   "source": [
    "number_tracks('Monday', 'Moscow') # количество прослушиваний в Москве по понедельникам"
   ]
  },
  {
   "cell_type": "code",
   "execution_count": 21,
   "metadata": {
    "deletable": false,
    "id": "hq_ncZ5T_Zcu"
   },
   "outputs": [
    {
     "data": {
      "text/plain": [
       "5614"
      ]
     },
     "execution_count": 21,
     "metadata": {},
     "output_type": "execute_result"
    }
   ],
   "source": [
    "number_tracks('Monday', 'Saint-Petersburg') # количество прослушиваний в Санкт-Петербурге по понедельникам"
   ]
  },
  {
   "cell_type": "code",
   "execution_count": 22,
   "metadata": {
    "deletable": false,
    "id": "_NTy2VPU_Zcu"
   },
   "outputs": [
    {
     "data": {
      "text/plain": [
       "11056"
      ]
     },
     "execution_count": 22,
     "metadata": {},
     "output_type": "execute_result"
    }
   ],
   "source": [
    "number_tracks('Wednesday', 'Moscow') # количество прослушиваний в Москве по средам"
   ]
  },
  {
   "cell_type": "code",
   "execution_count": 23,
   "metadata": {
    "deletable": false,
    "id": "j2y3TAwo_Zcu"
   },
   "outputs": [
    {
     "data": {
      "text/plain": [
       "7003"
      ]
     },
     "execution_count": 23,
     "metadata": {},
     "output_type": "execute_result"
    }
   ],
   "source": [
    "number_tracks('Wednesday', 'Saint-Petersburg') # количество прослушиваний в Санкт-Петербурге по средам"
   ]
  },
  {
   "cell_type": "code",
   "execution_count": 24,
   "metadata": {
    "deletable": false,
    "id": "vYDw5u_K_Zcu"
   },
   "outputs": [
    {
     "data": {
      "text/plain": [
       "15945"
      ]
     },
     "execution_count": 24,
     "metadata": {},
     "output_type": "execute_result"
    }
   ],
   "source": [
    "number_tracks('Friday', 'Moscow') # количество прослушиваний в Москве по пятницам"
   ]
  },
  {
   "cell_type": "code",
   "execution_count": 25,
   "metadata": {
    "deletable": false,
    "id": "8_yzFtW3_Zcu"
   },
   "outputs": [
    {
     "data": {
      "text/plain": [
       "5895"
      ]
     },
     "execution_count": 25,
     "metadata": {},
     "output_type": "execute_result"
    }
   ],
   "source": [
    "number_tracks('Friday', 'Saint-Petersburg') # количество прослушиваний в Санкт-Петербурге по пятницам"
   ]
  },
  {
   "cell_type": "markdown",
   "metadata": {
    "deletable": false,
    "editable": false,
    "id": "7QXffbO-_Zcu",
    "tags": [
     "start_task"
    ]
   },
   "source": [
    "**Задание 22**"
   ]
  },
  {
   "cell_type": "code",
   "execution_count": 26,
   "metadata": {
    "deletable": false,
    "id": "APAcLpOr_Zcu"
   },
   "outputs": [
    {
     "data": {
      "text/html": [
       "<div>\n",
       "<style scoped>\n",
       "    .dataframe tbody tr th:only-of-type {\n",
       "        vertical-align: middle;\n",
       "    }\n",
       "\n",
       "    .dataframe tbody tr th {\n",
       "        vertical-align: top;\n",
       "    }\n",
       "\n",
       "    .dataframe thead th {\n",
       "        text-align: right;\n",
       "    }\n",
       "</style>\n",
       "<table border=\"1\" class=\"dataframe\">\n",
       "  <thead>\n",
       "    <tr style=\"text-align: right;\">\n",
       "      <th></th>\n",
       "      <th>city</th>\n",
       "      <th>monday</th>\n",
       "      <th>wednesday</th>\n",
       "      <th>friday</th>\n",
       "    </tr>\n",
       "  </thead>\n",
       "  <tbody>\n",
       "    <tr>\n",
       "      <th>0</th>\n",
       "      <td>Moscow</td>\n",
       "      <td>15740</td>\n",
       "      <td>11056</td>\n",
       "      <td>15945</td>\n",
       "    </tr>\n",
       "    <tr>\n",
       "      <th>1</th>\n",
       "      <td>Saint-Petersburg</td>\n",
       "      <td>5614</td>\n",
       "      <td>7003</td>\n",
       "      <td>5895</td>\n",
       "    </tr>\n",
       "  </tbody>\n",
       "</table>\n",
       "</div>"
      ],
      "text/plain": [
       "               city  monday  wednesday  friday\n",
       "0            Moscow   15740      11056   15945\n",
       "1  Saint-Petersburg    5614       7003    5895"
      ]
     },
     "metadata": {},
     "output_type": "display_data"
    }
   ],
   "source": [
    "# создание таблицы с результатами:\n",
    "info = pd.DataFrame(data = [['Moscow', 15740, 11056, 15945],['Saint-Petersburg', 5614, 7003, 5895]], columns = ['city', 'monday', 'wednesday', 'friday'])  \n",
    "display(info) # выводим таблицу на экран"
   ]
  },
  {
   "cell_type": "markdown",
   "metadata": {
    "deletable": false,
    "editable": false,
    "id": "-EgPIHYu_Zcu"
   },
   "source": [
    "**Выводы**\n",
    "\n",
    "Данные показывают разницу поведения пользователей:\n",
    "\n",
    "- В Москве пик прослушиваний приходится на понедельник и пятницу, а в среду заметен спад.\n",
    "- В Петербурге, наоборот, больше слушают музыку по средам. Активность в понедельник и пятницу здесь почти в равной мере уступает среде.\n",
    "\n",
    "Значит, данные говорят в пользу первой гипотезы."
   ]
  },
  {
   "cell_type": "markdown",
   "metadata": {
    "deletable": false,
    "editable": false,
    "id": "atZAxtq4_Zcu"
   },
   "source": [
    "### Музыка в начале и в конце недели"
   ]
  },
  {
   "cell_type": "markdown",
   "metadata": {
    "deletable": false,
    "editable": false,
    "id": "eXrQqXFH_Zcu"
   },
   "source": [
    "Согласно второй гипотезе, утром в понедельник в Москве преобладают одни жанры, а в Петербурге — другие. Так же и вечером пятницы преобладают разные жанры — в зависимости от города."
   ]
  },
  {
   "cell_type": "markdown",
   "metadata": {
    "deletable": false,
    "editable": false,
    "id": "S8UcW6Hw_Zcu",
    "tags": [
     "start_task"
    ]
   },
   "source": [
    "**Задание 23**"
   ]
  },
  {
   "cell_type": "code",
   "execution_count": 27,
   "metadata": {
    "deletable": false,
    "id": "qeaFfM_P_Zcu"
   },
   "outputs": [],
   "source": [
    "moscow_general = df[df['city'] == 'Moscow'] # получение таблицы moscow_general из тех строк таблицы df, для которых значение в столбце 'city' равно 'Moscow'"
   ]
  },
  {
   "cell_type": "code",
   "execution_count": 28,
   "metadata": {
    "deletable": false,
    "id": "ORaVRKto_Zcu"
   },
   "outputs": [],
   "source": [
    "spb_general = df[df['city'] == 'Saint-Petersburg'] # получение таблицы spb_general из тех строк таблицы df, для которых значение в столбце 'city' равно 'Saint-Petersburg'\n"
   ]
  },
  {
   "cell_type": "markdown",
   "metadata": {
    "deletable": false,
    "editable": false,
    "id": "MEJV-CX2_Zcu",
    "tags": [
     "start_task"
    ]
   },
   "source": [
    "**Задание 24**"
   ]
  },
  {
   "cell_type": "code",
   "execution_count": 29,
   "metadata": {
    "deletable": false,
    "id": "laJT9BYl_Zcu"
   },
   "outputs": [],
   "source": [
    "def genre_weekday(df, day, time1, time2):\n",
    "    # используем последовательную фильтрацию в функции чтобы определить прослушиваемые жанры по дням недели утром и вечером\n",
    "   \n",
    "    genre_df = df[df['day'] == day]  # оставляем в genre_df только те строки df, у которых день равен day\n",
    "    genre_df = genre_df[genre_df['time'] < time2]  # оставляем в genre_df только те строки genre_df, у которых время меньше time2 \n",
    "    genre_df = genre_df[genre_df['time'] > time1]  # оставляем в genre_df только те строки genre_df, у которых время больше time1, так мы определим время между двумя утренними или вечерними интервалами\n",
    "    genre_df_grouped = genre_df.groupby('genre')['genre'].count()  # сгруппируем отфильтрованный датафрейм по столбцу с названиями жанров, возьмём столбец genre и посчитаем кол-во строк для каждого жанра методом count()\n",
    "    genre_df_sorted = genre_df_grouped.sort_values(ascending = False) # отсортируем результат по убыванию (чтобы в начале Series оказались самые популярные жанры)\n",
    "    \n",
    "    return genre_df_sorted[:10] # вернём Series с 10 самыми популярными жанрами в указанный отрезок времени заданного дня\n",
    "\n",
    "    "
   ]
  },
  {
   "cell_type": "markdown",
   "metadata": {
    "deletable": false,
    "editable": false,
    "id": "la2s2_PF_Zcu",
    "tags": [
     "start_task"
    ]
   },
   "source": [
    "**Задание 25**"
   ]
  },
  {
   "cell_type": "code",
   "execution_count": 30,
   "metadata": {
    "deletable": false,
    "id": "yz7itPUQ_Zcu"
   },
   "outputs": [
    {
     "data": {
      "text/plain": [
       "genre\n",
       "pop            781\n",
       "dance          549\n",
       "electronic     480\n",
       "rock           474\n",
       "hiphop         286\n",
       "ruspop         186\n",
       "world          181\n",
       "rusrap         175\n",
       "alternative    164\n",
       "unknown        161\n",
       "Name: genre, dtype: int64"
      ]
     },
     "execution_count": 30,
     "metadata": {},
     "output_type": "execute_result"
    }
   ],
   "source": [
    "genre_weekday(moscow_general, 'Monday', '07:00', '11:00') # вызов функции для утра понедельника в Москве (вместо df — таблица moscow_general)"
   ]
  },
  {
   "cell_type": "code",
   "execution_count": 31,
   "metadata": {
    "deletable": false,
    "id": "kwUcHPdy_Zcu"
   },
   "outputs": [
    {
     "data": {
      "text/plain": [
       "genre\n",
       "pop            218\n",
       "dance          182\n",
       "rock           162\n",
       "electronic     147\n",
       "hiphop          80\n",
       "ruspop          64\n",
       "alternative     58\n",
       "rusrap          55\n",
       "jazz            44\n",
       "classical       40\n",
       "Name: genre, dtype: int64"
      ]
     },
     "execution_count": 31,
     "metadata": {},
     "output_type": "execute_result"
    }
   ],
   "source": [
    "genre_weekday(spb_general, 'Monday', '07:00', '11:00') # вызов функции для утра понедельника в Петербурге (вместо df — таблица spb_general)"
   ]
  },
  {
   "cell_type": "code",
   "execution_count": 32,
   "metadata": {
    "deletable": false,
    "id": "EzXVRE1o_Zcu"
   },
   "outputs": [
    {
     "data": {
      "text/plain": [
       "genre\n",
       "pop            713\n",
       "rock           517\n",
       "dance          495\n",
       "electronic     482\n",
       "hiphop         273\n",
       "world          208\n",
       "ruspop         170\n",
       "alternative    163\n",
       "classical      163\n",
       "rusrap         142\n",
       "Name: genre, dtype: int64"
      ]
     },
     "execution_count": 32,
     "metadata": {},
     "output_type": "execute_result"
    }
   ],
   "source": [
    "genre_weekday(moscow_general, 'Friday', '17:00', '23:00') # вызов функции для вечера пятницы в Москве"
   ]
  },
  {
   "cell_type": "code",
   "execution_count": 33,
   "metadata": {
    "deletable": false,
    "id": "JZaEKu5v_Zcu"
   },
   "outputs": [
    {
     "data": {
      "text/plain": [
       "genre\n",
       "pop            256\n",
       "electronic     216\n",
       "rock           216\n",
       "dance          210\n",
       "hiphop          97\n",
       "alternative     63\n",
       "jazz            61\n",
       "classical       60\n",
       "rusrap          59\n",
       "world           54\n",
       "Name: genre, dtype: int64"
      ]
     },
     "execution_count": 33,
     "metadata": {},
     "output_type": "execute_result"
    }
   ],
   "source": [
    "genre_weekday(spb_general, 'Friday', '17:00', '23:00') # вызов функции для вечера пятницы в Петербурге"
   ]
  },
  {
   "cell_type": "markdown",
   "metadata": {
    "deletable": false,
    "editable": false,
    "id": "wrCe4MNX_Zcu"
   },
   "source": [
    "**Выводы**\n",
    "\n",
    "Если сравнить топ-10 жанров в понедельник утром, можно сделать такие выводы:\n",
    "\n",
    "1. В Москве и Петербурге слушают похожую музыку. Единственное различие — в московский рейтинг вошёл жанр “world”, а в петербургский — джаз и классика.\n",
    "\n",
    "2. В Москве пропущенных значений оказалось так много, что значение `'unknown'` заняло десятое место среди самых популярных жанров. Значит, пропущенные значения занимают существенную долю в данных и угрожают достоверности исследования.\n",
    "\n",
    "Вечер пятницы не меняет эту картину. Некоторые жанры поднимаются немного выше, другие спускаются, но в целом топ-10 остаётся тем же самым.\n",
    "\n",
    "Таким образом, вторая гипотеза подтвердилась лишь частично:\n",
    "* Пользователи слушают похожую музыку в начале недели и в конце.\n",
    "* Разница между Москвой и Петербургом не слишком выражена. В Москве чаще слушают русскую популярную музыку, в Петербурге — джаз.\n",
    "\n",
    "Однако пропуски в данных ставят под сомнение этот результат. В Москве их так много, что рейтинг топ-10 мог бы выглядеть иначе, если бы не утерянные  данные о жанрах."
   ]
  },
  {
   "cell_type": "markdown",
   "metadata": {
    "deletable": false,
    "editable": false,
    "id": "JolODAqr_Zcu"
   },
   "source": [
    "### Жанровые предпочтения в Москве и Петербурге\n",
    "\n",
    "Гипотеза: Петербург — столица рэпа, музыку этого жанра там слушают чаще, чем в Москве.  А Москва — город контрастов, в котором, тем не менее, преобладает поп-музыка."
   ]
  },
  {
   "cell_type": "markdown",
   "metadata": {
    "deletable": false,
    "editable": false,
    "id": "DlegSvaT_Zcu",
    "tags": [
     "start_task"
    ]
   },
   "source": [
    "**Задание 26**"
   ]
  },
  {
   "cell_type": "code",
   "execution_count": 34,
   "metadata": {
    "deletable": false,
    "id": "r19lIPke_Zcu"
   },
   "outputs": [],
   "source": [
    "moscow_genres = moscow_general.groupby('genre')['genre'].count() # группировка таблицы moscow_general по столбцу 'genre', выбор столбца `genre`, подсчёт числа значений 'genre' методом count(), сохранение в moscow_genres\n",
    "moscow_genres = moscow_genres.sort_values(ascending=False) # сортировка получившегося Series в порядке убывания и сохранение обратно в moscow_genres"
   ]
  },
  {
   "cell_type": "markdown",
   "metadata": {
    "deletable": false,
    "editable": false,
    "id": "6kMuomxTiIr8",
    "tags": [
     "start_task"
    ]
   },
   "source": [
    "**Задание 27**"
   ]
  },
  {
   "cell_type": "code",
   "execution_count": 35,
   "metadata": {
    "deletable": false,
    "id": "WhCSooF8_Zcv"
   },
   "outputs": [
    {
     "data": {
      "text/plain": [
       "genre\n",
       "pop            5892\n",
       "dance          4435\n",
       "rock           3965\n",
       "electronic     3786\n",
       "hiphop         2096\n",
       "classical      1616\n",
       "world          1432\n",
       "alternative    1379\n",
       "ruspop         1372\n",
       "rusrap         1161\n",
       "Name: genre, dtype: int64"
      ]
     },
     "execution_count": 35,
     "metadata": {},
     "output_type": "execute_result"
    }
   ],
   "source": [
    "moscow_genres.head(10) # просмотр первых 10 строк moscow_genres"
   ]
  },
  {
   "cell_type": "markdown",
   "metadata": {
    "deletable": false,
    "editable": false,
    "id": "cnPG2vnN_Zcv",
    "tags": [
     "start_task"
    ]
   },
   "source": [
    "**Задание 28**"
   ]
  },
  {
   "cell_type": "code",
   "execution_count": 36,
   "metadata": {
    "deletable": false,
    "id": "gluLIpE7_Zcv"
   },
   "outputs": [],
   "source": [
    "spb_genres = spb_general.groupby('genre')['genre'].count() # одной строкой: группировка таблицы spb_general по столбцу 'genre', выбор столбца `genre`, подсчёт числа значений 'genre' методом count(), сохранение в spb_genres\n",
    "spb_genres = spb_genres.sort_values(ascending = False) # сортировка получившегося Series в порядке убывания и сохранение обратно в spb_genres"
   ]
  },
  {
   "cell_type": "markdown",
   "metadata": {
    "deletable": false,
    "editable": false,
    "id": "5Doha_ODgyQ8",
    "tags": [
     "start_task"
    ]
   },
   "source": [
    "**Задание 29**"
   ]
  },
  {
   "cell_type": "code",
   "execution_count": 37,
   "metadata": {
    "deletable": false,
    "id": "uaGJHjVU_Zcv"
   },
   "outputs": [
    {
     "data": {
      "text/plain": [
       "genre\n",
       "pop            2431\n",
       "dance          1932\n",
       "rock           1879\n",
       "electronic     1736\n",
       "hiphop          960\n",
       "alternative     649\n",
       "classical       646\n",
       "rusrap          564\n",
       "ruspop          538\n",
       "world           515\n",
       "Name: genre, dtype: int64"
      ]
     },
     "execution_count": 37,
     "metadata": {},
     "output_type": "execute_result"
    }
   ],
   "source": [
    "spb_genres.head(10) # просмотр первых 10 строк spb_genres"
   ]
  },
  {
   "cell_type": "markdown",
   "metadata": {
    "deletable": false,
    "editable": false,
    "id": "RY51YJYu_Zcv"
   },
   "source": [
    "**Выводы**"
   ]
  },
  {
   "cell_type": "markdown",
   "metadata": {
    "deletable": false,
    "editable": false,
    "id": "nVhnJEm__Zcv"
   },
   "source": [
    "Гипотеза частично подтвердилась:\n",
    "* Поп-музыка — самый популярный жанр в Москве, как и предполагала гипотеза. Более того, в топ-10 жанров встречается близкий жанр — русская популярная музыка.\n",
    "* Вопреки ожиданиям, рэп одинаково популярен в Москве и Петербурге.\n"
   ]
  },
  {
   "cell_type": "markdown",
   "metadata": {
    "deletable": false,
    "editable": false,
    "id": "ykKQ0N65_Zcv"
   },
   "source": [
    "## Итоги исследования"
   ]
  },
  {
   "cell_type": "markdown",
   "metadata": {
    "deletable": false,
    "editable": false,
    "id": "tjUwbHb3_Zcv"
   },
   "source": [
    "Вы проверили три гипотезы и установили:\n",
    "\n",
    "1. День недели по-разному влияет на активность пользователей в Москве и Петербурге.\n",
    "\n",
    "Первая гипотеза полностью подтвердилась.\n",
    "\n",
    "2. Музыкальные предпочтения не сильно меняются в течение недели — будь то Москва или Петербург. Небольшие различия заметны в начале недели, по понедельникам:\n",
    "* в Москве слушают музыку жанра “world”,\n",
    "* в Петербурге — джаз и классику.\n",
    "\n",
    "Таким образом, вторая гипотеза подтвердилась лишь отчасти. Этот результат мог оказаться иным, если бы не пропуски в данных.\n",
    "\n",
    "3. Во вкусах пользователей Москвы и Петербурга больше общего, чем различий. Вопреки ожиданиям, предпочтения жанров в Петербурге напоминают московские.\n",
    "\n",
    "Третья гипотеза не подтвердилась. Если различия в предпочтениях и существуют, на основной массе пользователей они незаметны.\n",
    "\n",
    "**На практике исследования содержат проверки статистических гипотез.**\n",
    "Из части данных одного сервиса невозможно сделать какие-то выводы о всех пользователях сервиса без методов статистики.\n",
    "Проверки статистических гипотез покажут, насколько они достоверны, исходя из имеющихся данных.\n",
    "С методами проверок гипотез вы ещё познакомитесь в следующих темах."
   ]
  }
 ],
 "metadata": {
  "ExecuteTimeLog": [
   {
    "duration": 47,
    "start_time": "2024-03-26T16:21:40.016Z"
   },
   {
    "duration": 401,
    "start_time": "2024-03-26T16:22:18.234Z"
   },
   {
    "duration": 90,
    "start_time": "2024-03-26T16:22:32.272Z"
   },
   {
    "duration": 480,
    "start_time": "2024-03-26T16:23:45.964Z"
   },
   {
    "duration": 16,
    "start_time": "2024-03-26T16:23:55.446Z"
   },
   {
    "duration": 31,
    "start_time": "2024-03-26T16:25:17.109Z"
   },
   {
    "duration": 29,
    "start_time": "2024-03-26T16:44:31.067Z"
   },
   {
    "duration": 4,
    "start_time": "2024-03-26T16:48:53.727Z"
   },
   {
    "duration": 8,
    "start_time": "2024-03-26T16:50:12.657Z"
   },
   {
    "duration": 6,
    "start_time": "2024-03-26T16:50:20.849Z"
   },
   {
    "duration": 4,
    "start_time": "2024-03-26T16:50:31.875Z"
   },
   {
    "duration": 4,
    "start_time": "2024-03-26T16:58:24.480Z"
   },
   {
    "duration": 5,
    "start_time": "2024-03-26T16:58:44.818Z"
   },
   {
    "duration": 3,
    "start_time": "2024-03-26T16:59:01.726Z"
   },
   {
    "duration": 4,
    "start_time": "2024-03-26T16:59:44.020Z"
   },
   {
    "duration": 37,
    "start_time": "2024-03-26T17:01:01.873Z"
   },
   {
    "duration": 33,
    "start_time": "2024-03-26T17:02:28.030Z"
   },
   {
    "duration": 26,
    "start_time": "2024-03-26T17:03:54.958Z"
   },
   {
    "duration": 89,
    "start_time": "2024-03-30T09:29:37.435Z"
   },
   {
    "duration": 80,
    "start_time": "2024-03-30T09:30:21.507Z"
   },
   {
    "duration": 81,
    "start_time": "2024-03-30T09:30:45.860Z"
   },
   {
    "duration": 82,
    "start_time": "2024-03-30T09:38:12.381Z"
   },
   {
    "duration": 80,
    "start_time": "2024-03-30T09:42:41.734Z"
   },
   {
    "duration": 113,
    "start_time": "2024-03-30T09:42:57.415Z"
   },
   {
    "duration": 81,
    "start_time": "2024-03-30T09:55:28.914Z"
   },
   {
    "duration": 48,
    "start_time": "2024-03-30T09:55:50.508Z"
   },
   {
    "duration": 441,
    "start_time": "2024-03-30T09:56:19.338Z"
   },
   {
    "duration": 253,
    "start_time": "2024-03-30T09:56:19.780Z"
   },
   {
    "duration": 18,
    "start_time": "2024-03-30T09:56:20.035Z"
   },
   {
    "duration": 47,
    "start_time": "2024-03-30T09:56:20.056Z"
   },
   {
    "duration": 2,
    "start_time": "2024-03-30T09:56:20.105Z"
   },
   {
    "duration": 16,
    "start_time": "2024-03-30T09:56:20.109Z"
   },
   {
    "duration": 9,
    "start_time": "2024-03-30T09:56:20.127Z"
   },
   {
    "duration": 13,
    "start_time": "2024-03-30T09:56:20.137Z"
   },
   {
    "duration": 29,
    "start_time": "2024-03-30T09:56:20.152Z"
   },
   {
    "duration": 35,
    "start_time": "2024-03-30T09:56:20.184Z"
   },
   {
    "duration": 2,
    "start_time": "2024-03-30T09:56:20.221Z"
   },
   {
    "duration": 15,
    "start_time": "2024-03-30T09:56:20.224Z"
   },
   {
    "duration": 10,
    "start_time": "2024-03-30T09:56:20.240Z"
   },
   {
    "duration": 8,
    "start_time": "2024-03-30T09:56:20.251Z"
   },
   {
    "duration": 11,
    "start_time": "2024-03-30T09:56:20.261Z"
   },
   {
    "duration": 6,
    "start_time": "2024-03-30T09:56:20.274Z"
   },
   {
    "duration": 4,
    "start_time": "2024-03-30T09:56:20.281Z"
   },
   {
    "duration": 6,
    "start_time": "2024-03-30T09:56:20.287Z"
   },
   {
    "duration": 7,
    "start_time": "2024-03-30T09:56:20.295Z"
   },
   {
    "duration": 83,
    "start_time": "2024-03-30T09:56:20.303Z"
   },
   {
    "duration": 0,
    "start_time": "2024-03-30T09:56:20.388Z"
   },
   {
    "duration": 0,
    "start_time": "2024-03-30T09:56:20.390Z"
   },
   {
    "duration": 0,
    "start_time": "2024-03-30T09:56:20.391Z"
   },
   {
    "duration": 0,
    "start_time": "2024-03-30T09:56:20.392Z"
   },
   {
    "duration": 0,
    "start_time": "2024-03-30T09:56:20.394Z"
   },
   {
    "duration": 0,
    "start_time": "2024-03-30T09:56:20.395Z"
   },
   {
    "duration": 0,
    "start_time": "2024-03-30T09:56:20.397Z"
   },
   {
    "duration": 0,
    "start_time": "2024-03-30T09:56:20.398Z"
   },
   {
    "duration": 0,
    "start_time": "2024-03-30T09:56:20.400Z"
   },
   {
    "duration": 0,
    "start_time": "2024-03-30T09:56:20.401Z"
   },
   {
    "duration": 0,
    "start_time": "2024-03-30T09:56:20.403Z"
   },
   {
    "duration": 0,
    "start_time": "2024-03-30T09:56:20.405Z"
   },
   {
    "duration": 0,
    "start_time": "2024-03-30T09:56:20.406Z"
   },
   {
    "duration": 0,
    "start_time": "2024-03-30T09:56:20.407Z"
   },
   {
    "duration": 0,
    "start_time": "2024-03-30T09:56:20.409Z"
   },
   {
    "duration": 0,
    "start_time": "2024-03-30T09:56:20.410Z"
   },
   {
    "duration": 0,
    "start_time": "2024-03-30T09:56:20.412Z"
   },
   {
    "duration": 0,
    "start_time": "2024-03-30T09:56:20.413Z"
   },
   {
    "duration": 25,
    "start_time": "2024-03-30T09:56:31.693Z"
   },
   {
    "duration": 39,
    "start_time": "2024-03-30T09:56:52.149Z"
   },
   {
    "duration": 71,
    "start_time": "2024-03-30T10:10:25.937Z"
   },
   {
    "duration": 69,
    "start_time": "2024-03-30T10:17:29.617Z"
   },
   {
    "duration": 108,
    "start_time": "2024-03-30T10:28:09.299Z"
   },
   {
    "duration": 67,
    "start_time": "2024-03-30T10:28:11.774Z"
   },
   {
    "duration": 9,
    "start_time": "2024-03-30T10:30:23.363Z"
   },
   {
    "duration": 72,
    "start_time": "2024-03-30T10:32:38.395Z"
   },
   {
    "duration": 27,
    "start_time": "2024-03-30T10:38:45.171Z"
   },
   {
    "duration": 46,
    "start_time": "2024-03-30T10:39:17.337Z"
   },
   {
    "duration": 11,
    "start_time": "2024-03-30T10:40:30.791Z"
   },
   {
    "duration": 56,
    "start_time": "2024-03-30T10:45:28.043Z"
   },
   {
    "duration": 59,
    "start_time": "2024-03-30T10:45:40.728Z"
   },
   {
    "duration": 8,
    "start_time": "2024-03-30T10:52:46.204Z"
   },
   {
    "duration": 11,
    "start_time": "2024-03-30T10:53:24.162Z"
   },
   {
    "duration": 7,
    "start_time": "2024-03-30T10:53:53.472Z"
   },
   {
    "duration": 10,
    "start_time": "2024-03-30T10:54:09.437Z"
   },
   {
    "duration": 8,
    "start_time": "2024-03-30T10:54:45.575Z"
   },
   {
    "duration": 84,
    "start_time": "2024-03-30T10:55:25.784Z"
   },
   {
    "duration": 60,
    "start_time": "2024-03-30T10:55:50.678Z"
   },
   {
    "duration": 64,
    "start_time": "2024-03-30T10:56:13.771Z"
   },
   {
    "duration": 58,
    "start_time": "2024-03-30T10:56:25.833Z"
   },
   {
    "duration": 51,
    "start_time": "2024-03-30T10:57:59.924Z"
   },
   {
    "duration": 74,
    "start_time": "2024-03-30T10:58:47.327Z"
   },
   {
    "duration": 57,
    "start_time": "2024-03-30T11:03:05.218Z"
   },
   {
    "duration": 9,
    "start_time": "2024-03-30T11:13:25.743Z"
   },
   {
    "duration": 8,
    "start_time": "2024-03-30T11:13:48.489Z"
   },
   {
    "duration": 11,
    "start_time": "2024-03-30T11:18:17.243Z"
   },
   {
    "duration": 72,
    "start_time": "2024-03-30T11:31:20.094Z"
   },
   {
    "duration": 12,
    "start_time": "2024-03-30T12:06:57.895Z"
   },
   {
    "duration": 10,
    "start_time": "2024-03-30T12:07:01.309Z"
   },
   {
    "duration": 12,
    "start_time": "2024-03-30T12:07:23.831Z"
   },
   {
    "duration": 34,
    "start_time": "2024-03-30T12:08:57.214Z"
   },
   {
    "duration": 11,
    "start_time": "2024-03-30T12:10:12.519Z"
   },
   {
    "duration": 13,
    "start_time": "2024-03-30T12:10:23.461Z"
   },
   {
    "duration": 430,
    "start_time": "2024-03-31T10:35:48.183Z"
   },
   {
    "duration": 458,
    "start_time": "2024-03-31T10:35:48.617Z"
   },
   {
    "duration": 16,
    "start_time": "2024-03-31T10:35:49.076Z"
   },
   {
    "duration": 78,
    "start_time": "2024-03-31T10:35:49.094Z"
   },
   {
    "duration": 14,
    "start_time": "2024-03-31T10:35:49.174Z"
   },
   {
    "duration": 26,
    "start_time": "2024-03-31T10:35:49.190Z"
   },
   {
    "duration": 20,
    "start_time": "2024-03-31T10:35:49.218Z"
   },
   {
    "duration": 19,
    "start_time": "2024-03-31T10:35:49.239Z"
   },
   {
    "duration": 36,
    "start_time": "2024-03-31T10:35:49.259Z"
   },
   {
    "duration": 26,
    "start_time": "2024-03-31T10:35:49.297Z"
   },
   {
    "duration": 38,
    "start_time": "2024-03-31T10:35:49.325Z"
   },
   {
    "duration": 66,
    "start_time": "2024-03-31T10:35:49.364Z"
   },
   {
    "duration": 76,
    "start_time": "2024-03-31T10:35:49.431Z"
   },
   {
    "duration": 60,
    "start_time": "2024-03-31T10:35:49.519Z"
   },
   {
    "duration": 80,
    "start_time": "2024-03-31T10:35:49.581Z"
   },
   {
    "duration": 10,
    "start_time": "2024-03-31T10:35:49.662Z"
   },
   {
    "duration": 87,
    "start_time": "2024-03-31T10:35:49.674Z"
   },
   {
    "duration": 11,
    "start_time": "2024-03-31T10:35:49.763Z"
   },
   {
    "duration": 34,
    "start_time": "2024-03-31T10:35:49.775Z"
   },
   {
    "duration": 51,
    "start_time": "2024-03-31T10:35:49.811Z"
   },
   {
    "duration": 0,
    "start_time": "2024-03-31T10:35:49.864Z"
   },
   {
    "duration": 0,
    "start_time": "2024-03-31T10:35:49.865Z"
   },
   {
    "duration": 0,
    "start_time": "2024-03-31T10:35:49.867Z"
   },
   {
    "duration": 0,
    "start_time": "2024-03-31T10:35:49.868Z"
   },
   {
    "duration": 0,
    "start_time": "2024-03-31T10:35:49.870Z"
   },
   {
    "duration": 0,
    "start_time": "2024-03-31T10:35:49.871Z"
   },
   {
    "duration": 0,
    "start_time": "2024-03-31T10:35:49.872Z"
   },
   {
    "duration": 0,
    "start_time": "2024-03-31T10:35:49.874Z"
   },
   {
    "duration": 0,
    "start_time": "2024-03-31T10:35:49.875Z"
   },
   {
    "duration": 0,
    "start_time": "2024-03-31T10:35:49.876Z"
   },
   {
    "duration": 0,
    "start_time": "2024-03-31T10:35:49.878Z"
   },
   {
    "duration": 0,
    "start_time": "2024-03-31T10:35:49.879Z"
   },
   {
    "duration": 0,
    "start_time": "2024-03-31T10:35:49.880Z"
   },
   {
    "duration": 0,
    "start_time": "2024-03-31T10:35:49.881Z"
   },
   {
    "duration": 0,
    "start_time": "2024-03-31T10:35:49.883Z"
   },
   {
    "duration": 0,
    "start_time": "2024-03-31T10:35:49.884Z"
   },
   {
    "duration": 0,
    "start_time": "2024-03-31T10:35:49.885Z"
   },
   {
    "duration": 0,
    "start_time": "2024-03-31T10:35:49.886Z"
   },
   {
    "duration": 415,
    "start_time": "2024-03-31T11:02:45.709Z"
   },
   {
    "duration": 191,
    "start_time": "2024-03-31T11:02:46.126Z"
   },
   {
    "duration": 17,
    "start_time": "2024-03-31T11:02:46.319Z"
   },
   {
    "duration": 31,
    "start_time": "2024-03-31T11:02:46.338Z"
   },
   {
    "duration": 2,
    "start_time": "2024-03-31T11:02:46.370Z"
   },
   {
    "duration": 5,
    "start_time": "2024-03-31T11:02:46.374Z"
   },
   {
    "duration": 3,
    "start_time": "2024-03-31T11:02:46.380Z"
   },
   {
    "duration": 34,
    "start_time": "2024-03-31T11:02:46.385Z"
   },
   {
    "duration": 33,
    "start_time": "2024-03-31T11:02:46.420Z"
   },
   {
    "duration": 23,
    "start_time": "2024-03-31T11:02:46.455Z"
   },
   {
    "duration": 26,
    "start_time": "2024-03-31T11:02:46.479Z"
   },
   {
    "duration": 77,
    "start_time": "2024-03-31T11:02:46.506Z"
   },
   {
    "duration": 88,
    "start_time": "2024-03-31T11:02:46.585Z"
   },
   {
    "duration": 70,
    "start_time": "2024-03-31T11:02:46.675Z"
   },
   {
    "duration": 55,
    "start_time": "2024-03-31T11:02:46.746Z"
   },
   {
    "duration": 25,
    "start_time": "2024-03-31T11:02:46.803Z"
   },
   {
    "duration": 60,
    "start_time": "2024-03-31T11:02:46.830Z"
   },
   {
    "duration": 31,
    "start_time": "2024-03-31T11:02:46.892Z"
   },
   {
    "duration": 14,
    "start_time": "2024-03-31T11:02:46.925Z"
   },
   {
    "duration": 48,
    "start_time": "2024-03-31T11:02:46.940Z"
   },
   {
    "duration": 0,
    "start_time": "2024-03-31T11:02:46.990Z"
   },
   {
    "duration": 0,
    "start_time": "2024-03-31T11:02:46.991Z"
   },
   {
    "duration": 0,
    "start_time": "2024-03-31T11:02:46.992Z"
   },
   {
    "duration": 0,
    "start_time": "2024-03-31T11:02:46.993Z"
   },
   {
    "duration": 0,
    "start_time": "2024-03-31T11:02:46.995Z"
   },
   {
    "duration": 0,
    "start_time": "2024-03-31T11:02:46.996Z"
   },
   {
    "duration": 0,
    "start_time": "2024-03-31T11:02:46.996Z"
   },
   {
    "duration": 0,
    "start_time": "2024-03-31T11:02:46.997Z"
   },
   {
    "duration": 0,
    "start_time": "2024-03-31T11:02:46.998Z"
   },
   {
    "duration": 0,
    "start_time": "2024-03-31T11:02:46.999Z"
   },
   {
    "duration": 0,
    "start_time": "2024-03-31T11:02:47.000Z"
   },
   {
    "duration": 0,
    "start_time": "2024-03-31T11:02:47.001Z"
   },
   {
    "duration": 0,
    "start_time": "2024-03-31T11:02:47.002Z"
   },
   {
    "duration": 0,
    "start_time": "2024-03-31T11:02:47.003Z"
   },
   {
    "duration": 0,
    "start_time": "2024-03-31T11:02:47.004Z"
   },
   {
    "duration": 0,
    "start_time": "2024-03-31T11:02:47.005Z"
   },
   {
    "duration": 0,
    "start_time": "2024-03-31T11:02:47.006Z"
   },
   {
    "duration": 0,
    "start_time": "2024-03-31T11:02:47.007Z"
   },
   {
    "duration": 59,
    "start_time": "2024-03-31T11:05:46.682Z"
   },
   {
    "duration": 3,
    "start_time": "2024-03-31T11:06:17.241Z"
   },
   {
    "duration": 4,
    "start_time": "2024-03-31T11:07:33.720Z"
   },
   {
    "duration": 9,
    "start_time": "2024-03-31T11:07:55.040Z"
   },
   {
    "duration": 7,
    "start_time": "2024-03-31T11:08:11.736Z"
   },
   {
    "duration": 50,
    "start_time": "2024-03-31T11:08:31.901Z"
   },
   {
    "duration": 7,
    "start_time": "2024-03-31T11:08:52.242Z"
   },
   {
    "duration": 7,
    "start_time": "2024-03-31T11:09:04.440Z"
   },
   {
    "duration": 8,
    "start_time": "2024-03-31T11:09:14.776Z"
   },
   {
    "duration": 9,
    "start_time": "2024-03-31T11:09:57.216Z"
   },
   {
    "duration": 4,
    "start_time": "2024-03-31T11:10:57.871Z"
   },
   {
    "duration": 3,
    "start_time": "2024-03-31T11:11:24.014Z"
   },
   {
    "duration": 2,
    "start_time": "2024-03-31T11:11:44.475Z"
   },
   {
    "duration": 3,
    "start_time": "2024-03-31T11:15:35.689Z"
   },
   {
    "duration": 3,
    "start_time": "2024-03-31T11:15:38.657Z"
   },
   {
    "duration": 4,
    "start_time": "2024-03-31T11:17:55.727Z"
   },
   {
    "duration": 3,
    "start_time": "2024-03-31T11:24:19.706Z"
   },
   {
    "duration": 3,
    "start_time": "2024-03-31T11:26:21.600Z"
   },
   {
    "duration": 4,
    "start_time": "2024-03-31T11:27:48.329Z"
   },
   {
    "duration": 4,
    "start_time": "2024-03-31T11:27:51.534Z"
   },
   {
    "duration": 4,
    "start_time": "2024-03-31T11:30:50.221Z"
   },
   {
    "duration": 15,
    "start_time": "2024-03-31T11:31:14.097Z"
   },
   {
    "duration": 3,
    "start_time": "2024-03-31T11:40:43.339Z"
   },
   {
    "duration": 3,
    "start_time": "2024-03-31T11:40:50.463Z"
   },
   {
    "duration": 4,
    "start_time": "2024-03-31T11:42:56.403Z"
   },
   {
    "duration": 4,
    "start_time": "2024-03-31T12:45:58.921Z"
   },
   {
    "duration": 9,
    "start_time": "2024-03-31T12:46:16.835Z"
   },
   {
    "duration": 399,
    "start_time": "2024-03-31T12:47:18.918Z"
   },
   {
    "duration": 175,
    "start_time": "2024-03-31T12:47:19.319Z"
   },
   {
    "duration": 22,
    "start_time": "2024-03-31T12:47:19.496Z"
   },
   {
    "duration": 43,
    "start_time": "2024-03-31T12:47:19.520Z"
   },
   {
    "duration": 2,
    "start_time": "2024-03-31T12:47:19.565Z"
   },
   {
    "duration": 6,
    "start_time": "2024-03-31T12:47:19.568Z"
   },
   {
    "duration": 7,
    "start_time": "2024-03-31T12:47:19.575Z"
   },
   {
    "duration": 5,
    "start_time": "2024-03-31T12:47:19.583Z"
   },
   {
    "duration": 34,
    "start_time": "2024-03-31T12:47:19.618Z"
   },
   {
    "duration": 21,
    "start_time": "2024-03-31T12:47:19.654Z"
   },
   {
    "duration": 42,
    "start_time": "2024-03-31T12:47:19.677Z"
   },
   {
    "duration": 63,
    "start_time": "2024-03-31T12:47:19.720Z"
   },
   {
    "duration": 87,
    "start_time": "2024-03-31T12:47:19.784Z"
   },
   {
    "duration": 66,
    "start_time": "2024-03-31T12:47:19.872Z"
   },
   {
    "duration": 52,
    "start_time": "2024-03-31T12:47:19.939Z"
   },
   {
    "duration": 10,
    "start_time": "2024-03-31T12:47:19.992Z"
   },
   {
    "duration": 58,
    "start_time": "2024-03-31T12:47:20.018Z"
   },
   {
    "duration": 11,
    "start_time": "2024-03-31T12:47:20.077Z"
   },
   {
    "duration": 16,
    "start_time": "2024-03-31T12:47:20.089Z"
   },
   {
    "duration": 11,
    "start_time": "2024-03-31T12:47:20.107Z"
   },
   {
    "duration": 10,
    "start_time": "2024-03-31T12:47:20.119Z"
   },
   {
    "duration": 18,
    "start_time": "2024-03-31T12:47:20.130Z"
   },
   {
    "duration": 30,
    "start_time": "2024-03-31T12:47:20.149Z"
   },
   {
    "duration": 21,
    "start_time": "2024-03-31T12:47:20.180Z"
   },
   {
    "duration": 14,
    "start_time": "2024-03-31T12:47:20.203Z"
   },
   {
    "duration": 16,
    "start_time": "2024-03-31T12:47:20.219Z"
   },
   {
    "duration": 3,
    "start_time": "2024-03-31T12:47:20.237Z"
   },
   {
    "duration": 3,
    "start_time": "2024-03-31T12:47:20.242Z"
   },
   {
    "duration": 4,
    "start_time": "2024-03-31T12:47:20.246Z"
   },
   {
    "duration": 45,
    "start_time": "2024-03-31T12:47:20.251Z"
   },
   {
    "duration": 0,
    "start_time": "2024-03-31T12:47:20.298Z"
   },
   {
    "duration": 0,
    "start_time": "2024-03-31T12:47:20.299Z"
   },
   {
    "duration": 0,
    "start_time": "2024-03-31T12:47:20.300Z"
   },
   {
    "duration": 0,
    "start_time": "2024-03-31T12:47:20.301Z"
   },
   {
    "duration": 0,
    "start_time": "2024-03-31T12:47:20.302Z"
   },
   {
    "duration": 0,
    "start_time": "2024-03-31T12:47:20.303Z"
   },
   {
    "duration": 0,
    "start_time": "2024-03-31T12:47:20.304Z"
   },
   {
    "duration": 0,
    "start_time": "2024-03-31T12:47:20.305Z"
   },
   {
    "duration": 8,
    "start_time": "2024-03-31T12:47:29.702Z"
   },
   {
    "duration": 5,
    "start_time": "2024-03-31T12:48:09.595Z"
   },
   {
    "duration": 3,
    "start_time": "2024-03-31T12:49:48.617Z"
   },
   {
    "duration": 8,
    "start_time": "2024-03-31T12:49:51.121Z"
   },
   {
    "duration": 4,
    "start_time": "2024-03-31T12:50:09.333Z"
   },
   {
    "duration": 8,
    "start_time": "2024-03-31T12:50:14.543Z"
   },
   {
    "duration": 3,
    "start_time": "2024-03-31T12:50:58.831Z"
   },
   {
    "duration": 8,
    "start_time": "2024-03-31T12:51:00.294Z"
   },
   {
    "duration": 7,
    "start_time": "2024-03-31T12:51:39.079Z"
   },
   {
    "duration": 6,
    "start_time": "2024-03-31T12:52:00.617Z"
   },
   {
    "duration": 64,
    "start_time": "2024-03-31T12:52:21.045Z"
   },
   {
    "duration": 8,
    "start_time": "2024-03-31T12:52:37.418Z"
   },
   {
    "duration": 17,
    "start_time": "2024-03-31T12:53:46.153Z"
   },
   {
    "duration": 17,
    "start_time": "2024-03-31T12:54:12.672Z"
   },
   {
    "duration": 4,
    "start_time": "2024-03-31T12:56:38.046Z"
   },
   {
    "duration": 16,
    "start_time": "2024-03-31T12:56:38.684Z"
   },
   {
    "duration": 8,
    "start_time": "2024-03-31T12:56:39.966Z"
   },
   {
    "duration": 3,
    "start_time": "2024-03-31T12:56:42.112Z"
   },
   {
    "duration": 8,
    "start_time": "2024-03-31T12:56:44.755Z"
   },
   {
    "duration": 3,
    "start_time": "2024-03-31T13:02:17.184Z"
   },
   {
    "duration": 8,
    "start_time": "2024-03-31T13:02:26.803Z"
   },
   {
    "duration": 3,
    "start_time": "2024-03-31T13:02:34.402Z"
   },
   {
    "duration": 9,
    "start_time": "2024-03-31T13:02:36.973Z"
   },
   {
    "duration": 23,
    "start_time": "2024-03-31T13:02:55.935Z"
   },
   {
    "duration": 18,
    "start_time": "2024-03-31T13:03:04.805Z"
   },
   {
    "duration": 10,
    "start_time": "2024-03-31T13:03:09.707Z"
   },
   {
    "duration": 9,
    "start_time": "2024-03-31T13:03:16.595Z"
   },
   {
    "duration": 20,
    "start_time": "2024-03-31T13:03:34.585Z"
   },
   {
    "duration": 8,
    "start_time": "2024-03-31T13:03:42.542Z"
   },
   {
    "duration": 18,
    "start_time": "2024-03-31T13:03:53.212Z"
   },
   {
    "duration": 11,
    "start_time": "2024-03-31T13:04:16.174Z"
   },
   {
    "duration": 17,
    "start_time": "2024-03-31T13:04:16.877Z"
   },
   {
    "duration": 8,
    "start_time": "2024-03-31T13:04:18.079Z"
   },
   {
    "duration": 9,
    "start_time": "2024-03-31T13:05:10.556Z"
   },
   {
    "duration": 7,
    "start_time": "2024-03-31T13:05:22.736Z"
   },
   {
    "duration": 7,
    "start_time": "2024-03-31T13:05:37.617Z"
   },
   {
    "duration": 8,
    "start_time": "2024-03-31T13:05:48.085Z"
   },
   {
    "duration": 7,
    "start_time": "2024-03-31T13:05:54.487Z"
   },
   {
    "duration": 19,
    "start_time": "2024-03-31T13:07:10.040Z"
   },
   {
    "duration": 17,
    "start_time": "2024-03-31T13:07:10.788Z"
   },
   {
    "duration": 25,
    "start_time": "2024-03-31T13:07:12.097Z"
   },
   {
    "duration": 4,
    "start_time": "2024-03-31T13:13:19.016Z"
   },
   {
    "duration": 18,
    "start_time": "2024-03-31T13:13:19.955Z"
   },
   {
    "duration": 16,
    "start_time": "2024-03-31T13:16:07.820Z"
   },
   {
    "duration": 16,
    "start_time": "2024-03-31T13:16:13.947Z"
   },
   {
    "duration": 15,
    "start_time": "2024-03-31T13:16:14.921Z"
   },
   {
    "duration": 17,
    "start_time": "2024-03-31T13:16:15.651Z"
   },
   {
    "duration": 17,
    "start_time": "2024-03-31T13:16:16.166Z"
   },
   {
    "duration": 16,
    "start_time": "2024-03-31T13:16:16.533Z"
   },
   {
    "duration": 6,
    "start_time": "2024-03-31T13:24:27.213Z"
   },
   {
    "duration": 9,
    "start_time": "2024-03-31T13:36:32.237Z"
   },
   {
    "duration": 65,
    "start_time": "2024-03-31T13:36:49.812Z"
   },
   {
    "duration": 8,
    "start_time": "2024-03-31T13:39:12.505Z"
   },
   {
    "duration": 7,
    "start_time": "2024-03-31T13:39:22.117Z"
   },
   {
    "duration": 20,
    "start_time": "2024-03-31T14:07:49.813Z"
   },
   {
    "duration": 10,
    "start_time": "2024-03-31T14:07:50.503Z"
   },
   {
    "duration": 8,
    "start_time": "2024-03-31T14:14:00.715Z"
   },
   {
    "duration": 4,
    "start_time": "2024-03-31T14:14:11.173Z"
   },
   {
    "duration": 4,
    "start_time": "2024-03-31T14:20:29.532Z"
   },
   {
    "duration": 4,
    "start_time": "2024-03-31T14:20:38.727Z"
   },
   {
    "duration": 4,
    "start_time": "2024-03-31T14:22:09.729Z"
   },
   {
    "duration": 4,
    "start_time": "2024-03-31T14:22:12.125Z"
   },
   {
    "duration": 5,
    "start_time": "2024-03-31T14:22:18.486Z"
   },
   {
    "duration": 4,
    "start_time": "2024-03-31T14:22:33.237Z"
   },
   {
    "duration": 4,
    "start_time": "2024-03-31T14:26:27.978Z"
   },
   {
    "duration": 6,
    "start_time": "2024-03-31T14:29:47.384Z"
   },
   {
    "duration": 33,
    "start_time": "2024-03-31T14:35:45.219Z"
   },
   {
    "duration": 17,
    "start_time": "2024-03-31T14:36:36.047Z"
   },
   {
    "duration": 26,
    "start_time": "2024-03-31T14:37:10.298Z"
   },
   {
    "duration": 20,
    "start_time": "2024-03-31T14:37:13.825Z"
   },
   {
    "duration": 26,
    "start_time": "2024-03-31T14:38:00.352Z"
   },
   {
    "duration": 16,
    "start_time": "2024-03-31T14:38:02.875Z"
   },
   {
    "duration": 57,
    "start_time": "2024-03-31T14:43:58.442Z"
   },
   {
    "duration": 13,
    "start_time": "2024-03-31T14:44:13.984Z"
   },
   {
    "duration": 6,
    "start_time": "2024-03-31T14:44:26.476Z"
   },
   {
    "duration": 12,
    "start_time": "2024-03-31T14:48:14.409Z"
   },
   {
    "duration": 6,
    "start_time": "2024-03-31T14:49:26.908Z"
   },
   {
    "duration": 6,
    "start_time": "2024-03-31T14:49:31.167Z"
   },
   {
    "duration": 414,
    "start_time": "2024-04-01T16:21:37.941Z"
   },
   {
    "duration": 474,
    "start_time": "2024-04-01T16:21:38.357Z"
   },
   {
    "duration": 18,
    "start_time": "2024-04-01T16:21:38.833Z"
   },
   {
    "duration": 43,
    "start_time": "2024-04-01T16:21:38.853Z"
   },
   {
    "duration": 3,
    "start_time": "2024-04-01T16:21:38.898Z"
   },
   {
    "duration": 5,
    "start_time": "2024-04-01T16:21:38.902Z"
   },
   {
    "duration": 4,
    "start_time": "2024-04-01T16:21:38.909Z"
   },
   {
    "duration": 8,
    "start_time": "2024-04-01T16:21:38.914Z"
   },
   {
    "duration": 32,
    "start_time": "2024-04-01T16:21:38.923Z"
   },
   {
    "duration": 21,
    "start_time": "2024-04-01T16:21:38.981Z"
   },
   {
    "duration": 28,
    "start_time": "2024-04-01T16:21:39.003Z"
   },
   {
    "duration": 94,
    "start_time": "2024-04-01T16:21:39.032Z"
   },
   {
    "duration": 91,
    "start_time": "2024-04-01T16:21:39.128Z"
   },
   {
    "duration": 84,
    "start_time": "2024-04-01T16:21:39.221Z"
   },
   {
    "duration": 59,
    "start_time": "2024-04-01T16:21:39.307Z"
   },
   {
    "duration": 21,
    "start_time": "2024-04-01T16:21:39.368Z"
   },
   {
    "duration": 63,
    "start_time": "2024-04-01T16:21:39.391Z"
   },
   {
    "duration": 27,
    "start_time": "2024-04-01T16:21:39.456Z"
   },
   {
    "duration": 12,
    "start_time": "2024-04-01T16:21:39.484Z"
   },
   {
    "duration": 3,
    "start_time": "2024-04-01T16:21:39.498Z"
   },
   {
    "duration": 22,
    "start_time": "2024-04-01T16:21:39.503Z"
   },
   {
    "duration": 15,
    "start_time": "2024-04-01T16:21:39.527Z"
   },
   {
    "duration": 44,
    "start_time": "2024-04-01T16:21:39.543Z"
   },
   {
    "duration": 19,
    "start_time": "2024-04-01T16:21:39.589Z"
   },
   {
    "duration": 21,
    "start_time": "2024-04-01T16:21:39.609Z"
   },
   {
    "duration": 17,
    "start_time": "2024-04-01T16:21:39.631Z"
   },
   {
    "duration": 33,
    "start_time": "2024-04-01T16:21:39.650Z"
   },
   {
    "duration": 11,
    "start_time": "2024-04-01T16:21:39.687Z"
   },
   {
    "duration": 11,
    "start_time": "2024-04-01T16:21:39.700Z"
   },
   {
    "duration": 5,
    "start_time": "2024-04-01T16:21:39.713Z"
   },
   {
    "duration": 23,
    "start_time": "2024-04-01T16:21:39.720Z"
   },
   {
    "duration": 48,
    "start_time": "2024-04-01T16:21:39.745Z"
   },
   {
    "duration": 22,
    "start_time": "2024-04-01T16:21:39.794Z"
   },
   {
    "duration": 14,
    "start_time": "2024-04-01T16:21:39.818Z"
   },
   {
    "duration": 10,
    "start_time": "2024-04-01T16:21:39.833Z"
   },
   {
    "duration": 42,
    "start_time": "2024-04-01T16:21:39.844Z"
   },
   {
    "duration": 9,
    "start_time": "2024-04-01T16:21:39.889Z"
   },
   {
    "duration": 15,
    "start_time": "2024-04-01T16:21:39.900Z"
   },
   {
    "duration": 466,
    "start_time": "2024-04-01T17:08:32.458Z"
   },
   {
    "duration": 207,
    "start_time": "2024-04-01T17:08:32.926Z"
   },
   {
    "duration": 19,
    "start_time": "2024-04-01T17:08:33.135Z"
   },
   {
    "duration": 60,
    "start_time": "2024-04-01T17:08:33.157Z"
   },
   {
    "duration": 11,
    "start_time": "2024-04-01T17:08:33.221Z"
   },
   {
    "duration": 5,
    "start_time": "2024-04-01T17:08:33.234Z"
   },
   {
    "duration": 3,
    "start_time": "2024-04-01T17:08:33.241Z"
   },
   {
    "duration": 5,
    "start_time": "2024-04-01T17:08:33.245Z"
   },
   {
    "duration": 42,
    "start_time": "2024-04-01T17:08:33.252Z"
   },
   {
    "duration": 25,
    "start_time": "2024-04-01T17:08:33.296Z"
   },
   {
    "duration": 27,
    "start_time": "2024-04-01T17:08:33.323Z"
   },
   {
    "duration": 96,
    "start_time": "2024-04-01T17:08:33.352Z"
   },
   {
    "duration": 97,
    "start_time": "2024-04-01T17:08:33.449Z"
   },
   {
    "duration": 80,
    "start_time": "2024-04-01T17:08:33.550Z"
   },
   {
    "duration": 73,
    "start_time": "2024-04-01T17:08:33.631Z"
   },
   {
    "duration": 11,
    "start_time": "2024-04-01T17:08:33.706Z"
   },
   {
    "duration": 76,
    "start_time": "2024-04-01T17:08:33.719Z"
   },
   {
    "duration": 12,
    "start_time": "2024-04-01T17:08:33.797Z"
   },
   {
    "duration": 15,
    "start_time": "2024-04-01T17:08:33.811Z"
   },
   {
    "duration": 4,
    "start_time": "2024-04-01T17:08:33.828Z"
   },
   {
    "duration": 56,
    "start_time": "2024-04-01T17:08:33.834Z"
   },
   {
    "duration": 19,
    "start_time": "2024-04-01T17:08:33.897Z"
   },
   {
    "duration": 37,
    "start_time": "2024-04-01T17:08:33.918Z"
   },
   {
    "duration": 25,
    "start_time": "2024-04-01T17:08:33.958Z"
   },
   {
    "duration": 29,
    "start_time": "2024-04-01T17:08:33.985Z"
   },
   {
    "duration": 16,
    "start_time": "2024-04-01T17:08:34.016Z"
   },
   {
    "duration": 6,
    "start_time": "2024-04-01T17:08:34.034Z"
   },
   {
    "duration": 14,
    "start_time": "2024-04-01T17:08:34.042Z"
   },
   {
    "duration": 15,
    "start_time": "2024-04-01T17:08:34.081Z"
   },
   {
    "duration": 6,
    "start_time": "2024-04-01T17:08:34.098Z"
   },
   {
    "duration": 20,
    "start_time": "2024-04-01T17:08:34.106Z"
   },
   {
    "duration": 14,
    "start_time": "2024-04-01T17:08:34.128Z"
   },
   {
    "duration": 69,
    "start_time": "2024-04-01T17:08:34.145Z"
   },
   {
    "duration": 19,
    "start_time": "2024-04-01T17:08:34.217Z"
   },
   {
    "duration": 10,
    "start_time": "2024-04-01T17:08:34.238Z"
   },
   {
    "duration": 7,
    "start_time": "2024-04-01T17:08:34.250Z"
   },
   {
    "duration": 11,
    "start_time": "2024-04-01T17:08:34.258Z"
   },
   {
    "duration": 16,
    "start_time": "2024-04-01T17:08:34.271Z"
   }
  ],
  "celltoolbar": "Отсутствует",
  "colab": {
   "collapsed_sections": [
    "E0vqbgi9ay0H",
    "VUC88oWjTJw2"
   ],
   "provenance": []
  },
  "kernelspec": {
   "display_name": "Python 3 (ipykernel)",
   "language": "python",
   "name": "python3"
  },
  "language_info": {
   "codemirror_mode": {
    "name": "ipython",
    "version": 3
   },
   "file_extension": ".py",
   "mimetype": "text/x-python",
   "name": "python",
   "nbconvert_exporter": "python",
   "pygments_lexer": "ipython3",
   "version": "3.11.7"
  },
  "toc": {
   "base_numbering": 1,
   "nav_menu": {
    "height": "215px",
    "width": "403px"
   },
   "number_sections": true,
   "sideBar": true,
   "skip_h1_title": true,
   "title_cell": "Содержание",
   "title_sidebar": "Contents",
   "toc_cell": true,
   "toc_position": {
    "height": "calc(100% - 180px)",
    "left": "10px",
    "top": "150px",
    "width": "285.814px"
   },
   "toc_section_display": true,
   "toc_window_display": false
  }
 },
 "nbformat": 4,
 "nbformat_minor": 1
}
