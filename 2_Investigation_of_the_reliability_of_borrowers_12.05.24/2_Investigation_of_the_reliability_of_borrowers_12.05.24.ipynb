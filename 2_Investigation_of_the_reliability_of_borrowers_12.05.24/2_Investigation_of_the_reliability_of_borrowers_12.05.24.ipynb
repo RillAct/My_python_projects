{
 "cells": [
  {
   "cell_type": "markdown",
   "id": "4f11de00",
   "metadata": {
    "deletable": false,
    "editable": false,
    "id": "4f11de00"
   },
   "source": [
    "# Исследование надежности заемщиков"
   ]
  },
  {
   "cell_type": "markdown",
   "id": "76a8a9ce",
   "metadata": {
    "deletable": false,
    "editable": false,
    "id": "76a8a9ce",
    "tags": [
     "start_task"
    ]
   },
   "source": [
    "****\n",
    "\n"
   ]
  },
  {
   "cell_type": "markdown",
   "id": "516620ee",
   "metadata": {
    "deletable": false,
    "editable": false,
    "id": "516620ee"
   },
   "source": [
    "## Открою таблицу и изучу общую информацию о данных"
   ]
  },
  {
   "cell_type": "code",
   "execution_count": 1,
   "id": "fab207d0",
   "metadata": {
    "id": "fab207d0"
   },
   "outputs": [],
   "source": [
    "import pandas as pd"
   ]
  },
  {
   "cell_type": "code",
   "execution_count": 2,
   "id": "6c82b607",
   "metadata": {
    "id": "6c82b607"
   },
   "outputs": [],
   "source": [
    "data = pd.read_csv(r\"C:\\Users\\SubKi\\Downloads\\data_sets\\data.csv\")"
   ]
  },
  {
   "cell_type": "markdown",
   "id": "08bbb5b3",
   "metadata": {
    "deletable": false,
    "editable": false,
    "id": "08bbb5b3",
    "tags": [
     "start_task"
    ]
   },
   "source": [
    "**Выведу первые 20 строчек датафрейма `data` на экран.**"
   ]
  },
  {
   "cell_type": "code",
   "execution_count": 3,
   "id": "4ff33b36",
   "metadata": {
    "id": "4ff33b36"
   },
   "outputs": [
    {
     "data": {
      "text/html": [
       "<div>\n",
       "<style scoped>\n",
       "    .dataframe tbody tr th:only-of-type {\n",
       "        vertical-align: middle;\n",
       "    }\n",
       "\n",
       "    .dataframe tbody tr th {\n",
       "        vertical-align: top;\n",
       "    }\n",
       "\n",
       "    .dataframe thead th {\n",
       "        text-align: right;\n",
       "    }\n",
       "</style>\n",
       "<table border=\"1\" class=\"dataframe\">\n",
       "  <thead>\n",
       "    <tr style=\"text-align: right;\">\n",
       "      <th></th>\n",
       "      <th>children</th>\n",
       "      <th>days_employed</th>\n",
       "      <th>dob_years</th>\n",
       "      <th>education</th>\n",
       "      <th>education_id</th>\n",
       "      <th>family_status</th>\n",
       "      <th>family_status_id</th>\n",
       "      <th>gender</th>\n",
       "      <th>income_type</th>\n",
       "      <th>debt</th>\n",
       "      <th>total_income</th>\n",
       "      <th>purpose</th>\n",
       "    </tr>\n",
       "  </thead>\n",
       "  <tbody>\n",
       "    <tr>\n",
       "      <th>0</th>\n",
       "      <td>1</td>\n",
       "      <td>-8437.673028</td>\n",
       "      <td>42</td>\n",
       "      <td>высшее</td>\n",
       "      <td>0</td>\n",
       "      <td>женат / замужем</td>\n",
       "      <td>0</td>\n",
       "      <td>F</td>\n",
       "      <td>сотрудник</td>\n",
       "      <td>0</td>\n",
       "      <td>253875.639453</td>\n",
       "      <td>покупка жилья</td>\n",
       "    </tr>\n",
       "    <tr>\n",
       "      <th>1</th>\n",
       "      <td>1</td>\n",
       "      <td>-4024.803754</td>\n",
       "      <td>36</td>\n",
       "      <td>среднее</td>\n",
       "      <td>1</td>\n",
       "      <td>женат / замужем</td>\n",
       "      <td>0</td>\n",
       "      <td>F</td>\n",
       "      <td>сотрудник</td>\n",
       "      <td>0</td>\n",
       "      <td>112080.014102</td>\n",
       "      <td>приобретение автомобиля</td>\n",
       "    </tr>\n",
       "    <tr>\n",
       "      <th>2</th>\n",
       "      <td>0</td>\n",
       "      <td>-5623.422610</td>\n",
       "      <td>33</td>\n",
       "      <td>Среднее</td>\n",
       "      <td>1</td>\n",
       "      <td>женат / замужем</td>\n",
       "      <td>0</td>\n",
       "      <td>M</td>\n",
       "      <td>сотрудник</td>\n",
       "      <td>0</td>\n",
       "      <td>145885.952297</td>\n",
       "      <td>покупка жилья</td>\n",
       "    </tr>\n",
       "    <tr>\n",
       "      <th>3</th>\n",
       "      <td>3</td>\n",
       "      <td>-4124.747207</td>\n",
       "      <td>32</td>\n",
       "      <td>среднее</td>\n",
       "      <td>1</td>\n",
       "      <td>женат / замужем</td>\n",
       "      <td>0</td>\n",
       "      <td>M</td>\n",
       "      <td>сотрудник</td>\n",
       "      <td>0</td>\n",
       "      <td>267628.550329</td>\n",
       "      <td>дополнительное образование</td>\n",
       "    </tr>\n",
       "    <tr>\n",
       "      <th>4</th>\n",
       "      <td>0</td>\n",
       "      <td>340266.072047</td>\n",
       "      <td>53</td>\n",
       "      <td>среднее</td>\n",
       "      <td>1</td>\n",
       "      <td>гражданский брак</td>\n",
       "      <td>1</td>\n",
       "      <td>F</td>\n",
       "      <td>пенсионер</td>\n",
       "      <td>0</td>\n",
       "      <td>158616.077870</td>\n",
       "      <td>сыграть свадьбу</td>\n",
       "    </tr>\n",
       "    <tr>\n",
       "      <th>5</th>\n",
       "      <td>0</td>\n",
       "      <td>-926.185831</td>\n",
       "      <td>27</td>\n",
       "      <td>высшее</td>\n",
       "      <td>0</td>\n",
       "      <td>гражданский брак</td>\n",
       "      <td>1</td>\n",
       "      <td>M</td>\n",
       "      <td>компаньон</td>\n",
       "      <td>0</td>\n",
       "      <td>255763.565419</td>\n",
       "      <td>покупка жилья</td>\n",
       "    </tr>\n",
       "    <tr>\n",
       "      <th>6</th>\n",
       "      <td>0</td>\n",
       "      <td>-2879.202052</td>\n",
       "      <td>43</td>\n",
       "      <td>высшее</td>\n",
       "      <td>0</td>\n",
       "      <td>женат / замужем</td>\n",
       "      <td>0</td>\n",
       "      <td>F</td>\n",
       "      <td>компаньон</td>\n",
       "      <td>0</td>\n",
       "      <td>240525.971920</td>\n",
       "      <td>операции с жильем</td>\n",
       "    </tr>\n",
       "    <tr>\n",
       "      <th>7</th>\n",
       "      <td>0</td>\n",
       "      <td>-152.779569</td>\n",
       "      <td>50</td>\n",
       "      <td>СРЕДНЕЕ</td>\n",
       "      <td>1</td>\n",
       "      <td>женат / замужем</td>\n",
       "      <td>0</td>\n",
       "      <td>M</td>\n",
       "      <td>сотрудник</td>\n",
       "      <td>0</td>\n",
       "      <td>135823.934197</td>\n",
       "      <td>образование</td>\n",
       "    </tr>\n",
       "    <tr>\n",
       "      <th>8</th>\n",
       "      <td>2</td>\n",
       "      <td>-6929.865299</td>\n",
       "      <td>35</td>\n",
       "      <td>ВЫСШЕЕ</td>\n",
       "      <td>0</td>\n",
       "      <td>гражданский брак</td>\n",
       "      <td>1</td>\n",
       "      <td>F</td>\n",
       "      <td>сотрудник</td>\n",
       "      <td>0</td>\n",
       "      <td>95856.832424</td>\n",
       "      <td>на проведение свадьбы</td>\n",
       "    </tr>\n",
       "    <tr>\n",
       "      <th>9</th>\n",
       "      <td>0</td>\n",
       "      <td>-2188.756445</td>\n",
       "      <td>41</td>\n",
       "      <td>среднее</td>\n",
       "      <td>1</td>\n",
       "      <td>женат / замужем</td>\n",
       "      <td>0</td>\n",
       "      <td>M</td>\n",
       "      <td>сотрудник</td>\n",
       "      <td>0</td>\n",
       "      <td>144425.938277</td>\n",
       "      <td>покупка жилья для семьи</td>\n",
       "    </tr>\n",
       "  </tbody>\n",
       "</table>\n",
       "</div>"
      ],
      "text/plain": [
       "   children  days_employed  dob_years education  education_id  \\\n",
       "0         1   -8437.673028         42    высшее             0   \n",
       "1         1   -4024.803754         36   среднее             1   \n",
       "2         0   -5623.422610         33   Среднее             1   \n",
       "3         3   -4124.747207         32   среднее             1   \n",
       "4         0  340266.072047         53   среднее             1   \n",
       "5         0    -926.185831         27    высшее             0   \n",
       "6         0   -2879.202052         43    высшее             0   \n",
       "7         0    -152.779569         50   СРЕДНЕЕ             1   \n",
       "8         2   -6929.865299         35    ВЫСШЕЕ             0   \n",
       "9         0   -2188.756445         41   среднее             1   \n",
       "\n",
       "      family_status  family_status_id gender income_type  debt   total_income  \\\n",
       "0   женат / замужем                 0      F   сотрудник     0  253875.639453   \n",
       "1   женат / замужем                 0      F   сотрудник     0  112080.014102   \n",
       "2   женат / замужем                 0      M   сотрудник     0  145885.952297   \n",
       "3   женат / замужем                 0      M   сотрудник     0  267628.550329   \n",
       "4  гражданский брак                 1      F   пенсионер     0  158616.077870   \n",
       "5  гражданский брак                 1      M   компаньон     0  255763.565419   \n",
       "6   женат / замужем                 0      F   компаньон     0  240525.971920   \n",
       "7   женат / замужем                 0      M   сотрудник     0  135823.934197   \n",
       "8  гражданский брак                 1      F   сотрудник     0   95856.832424   \n",
       "9   женат / замужем                 0      M   сотрудник     0  144425.938277   \n",
       "\n",
       "                      purpose  \n",
       "0               покупка жилья  \n",
       "1     приобретение автомобиля  \n",
       "2               покупка жилья  \n",
       "3  дополнительное образование  \n",
       "4             сыграть свадьбу  \n",
       "5               покупка жилья  \n",
       "6           операции с жильем  \n",
       "7                 образование  \n",
       "8       на проведение свадьбы  \n",
       "9     покупка жилья для семьи  "
      ]
     },
     "execution_count": 3,
     "metadata": {},
     "output_type": "execute_result"
    }
   ],
   "source": [
    "data.head(10)"
   ]
  },
  {
   "cell_type": "markdown",
   "id": "c8f382ae",
   "metadata": {
    "deletable": false,
    "editable": false,
    "id": "c8f382ae",
    "tags": [
     "start_task"
    ]
   },
   "source": [
    "**Выведу основную информацию о датафрейме с помощью метода `info()`.**"
   ]
  },
  {
   "cell_type": "code",
   "execution_count": 4,
   "id": "e1ed9908",
   "metadata": {
    "id": "e1ed9908"
   },
   "outputs": [
    {
     "name": "stdout",
     "output_type": "stream",
     "text": [
      "<class 'pandas.core.frame.DataFrame'>\n",
      "RangeIndex: 21525 entries, 0 to 21524\n",
      "Data columns (total 12 columns):\n",
      " #   Column            Non-Null Count  Dtype  \n",
      "---  ------            --------------  -----  \n",
      " 0   children          21525 non-null  int64  \n",
      " 1   days_employed     19351 non-null  float64\n",
      " 2   dob_years         21525 non-null  int64  \n",
      " 3   education         21525 non-null  object \n",
      " 4   education_id      21525 non-null  int64  \n",
      " 5   family_status     21525 non-null  object \n",
      " 6   family_status_id  21525 non-null  int64  \n",
      " 7   gender            21525 non-null  object \n",
      " 8   income_type       21525 non-null  object \n",
      " 9   debt              21525 non-null  int64  \n",
      " 10  total_income      19351 non-null  float64\n",
      " 11  purpose           21525 non-null  object \n",
      "dtypes: float64(2), int64(5), object(5)\n",
      "memory usage: 2.0+ MB\n"
     ]
    }
   ],
   "source": [
    "data.info()"
   ]
  },
  {
   "cell_type": "markdown",
   "id": "f969a1cd",
   "metadata": {
    "deletable": false,
    "editable": false,
    "id": "f969a1cd"
   },
   "source": [
    "## Предобработка данных"
   ]
  },
  {
   "cell_type": "markdown",
   "id": "7283e864",
   "metadata": {
    "deletable": false,
    "editable": false,
    "id": "7283e864"
   },
   "source": [
    "### Удаление пропусков"
   ]
  },
  {
   "cell_type": "markdown",
   "id": "c9a0745e",
   "metadata": {
    "deletable": false,
    "editable": false,
    "id": "c9a0745e",
    "tags": [
     "start_task"
    ]
   },
   "source": [
    "**Выведу количество пропущенных значений для каждого столбца.**"
   ]
  },
  {
   "cell_type": "code",
   "execution_count": 5,
   "id": "b7a096e1",
   "metadata": {
    "id": "b7a096e1"
   },
   "outputs": [
    {
     "data": {
      "text/plain": [
       "children               0\n",
       "days_employed       2174\n",
       "dob_years              0\n",
       "education              0\n",
       "education_id           0\n",
       "family_status          0\n",
       "family_status_id       0\n",
       "gender                 0\n",
       "income_type            0\n",
       "debt                   0\n",
       "total_income        2174\n",
       "purpose                0\n",
       "dtype: int64"
      ]
     },
     "execution_count": 5,
     "metadata": {},
     "output_type": "execute_result"
    }
   ],
   "source": [
    "data.isna().sum()"
   ]
  },
  {
   "cell_type": "markdown",
   "id": "c2578616",
   "metadata": {
    "deletable": false,
    "editable": false,
    "id": "c2578616",
    "tags": [
     "start_task"
    ]
   },
   "source": [
    "**В двух столбцах есть пропущенные значения. Один из них — `days_employed`. Пропуски в этом столбце обработаю на следующем этапе. Другой столбец с пропущенными значениями — `total_income` — хранит данные о доходах. На сумму дохода сильнее всего влияет тип занятости, поэтому заполнить пропуски в этом столбце нужно медианным значением по каждому типу из столбца `income_type`. Например, у человека с типом занятости `сотрудник` пропуск в столбце `total_income` должен быть заполнен медианным доходом среди всех записей с тем же типом.**"
   ]
  },
  {
   "cell_type": "code",
   "execution_count": 6,
   "id": "13eac0fd",
   "metadata": {},
   "outputs": [],
   "source": [
    "for d in data['income_type'].unique():\n",
    "    # на каждом шаге цикла с помощью атрибута loc выбираем строки,\n",
    "    # в которых в income_type текущий тип занятости (d) и есть пропуски в total_income \n",
    "    data.loc[(data['income_type'] == d) & (data['total_income'].isna()), 'total_income'] =  data.loc[(data['income_type'] == d), 'total_income'].median()"
   ]
  },
  {
   "cell_type": "code",
   "execution_count": 7,
   "id": "26563f8a",
   "metadata": {},
   "outputs": [
    {
     "data": {
      "text/plain": [
       "0"
      ]
     },
     "execution_count": 7,
     "metadata": {},
     "output_type": "execute_result"
    }
   ],
   "source": [
    "data['total_income'].isna().sum() # проверка на пустые значения в столбце тип доходов"
   ]
  },
  {
   "cell_type": "markdown",
   "id": "ae986d46",
   "metadata": {
    "deletable": false,
    "editable": false,
    "id": "ae986d46"
   },
   "source": [
    "### Обработка аномальных значений"
   ]
  },
  {
   "cell_type": "markdown",
   "id": "b049cbae",
   "metadata": {
    "deletable": false,
    "editable": false,
    "id": "b049cbae",
    "tags": [
     "start_task"
    ]
   },
   "source": [
    "**В данных могут встречаться артефакты (аномалии) — значения, которые не отражают действительность и появились по какой-то ошибке. Таким артефактом будет отрицательное количество дней трудового стажа в столбце `days_employed`. Для реальных данных это нормально. Обработать значения в этом столбце: заменю все отрицательные значения положительными с помощью метода `abs()`.**"
   ]
  },
  {
   "cell_type": "code",
   "execution_count": 8,
   "id": "187779b0",
   "metadata": {
    "id": "187779b0"
   },
   "outputs": [],
   "source": [
    "data['days_employed'] = data['days_employed'].abs()"
   ]
  },
  {
   "cell_type": "markdown",
   "id": "a13054c2",
   "metadata": {
    "deletable": false,
    "editable": false,
    "id": "a13054c2",
    "tags": [
     "start_task"
    ]
   },
   "source": [
    "** Для каждого типа занятости выведу медианное значение трудового стажа `days_employed` в днях.**"
   ]
  },
  {
   "cell_type": "code",
   "execution_count": 9,
   "id": "f3f5810c",
   "metadata": {
    "id": "f3f5810c"
   },
   "outputs": [
    {
     "data": {
      "text/plain": [
       "income_type\n",
       "безработный        366413.652744\n",
       "в декрете            3296.759962\n",
       "госслужащий          2689.368353\n",
       "компаньон            1547.382223\n",
       "пенсионер          365213.306266\n",
       "предприниматель       520.848083\n",
       "сотрудник            1574.202821\n",
       "студент               578.751554\n",
       "Name: days_employed, dtype: float64"
      ]
     },
     "execution_count": 9,
     "metadata": {},
     "output_type": "execute_result"
    }
   ],
   "source": [
    "data.groupby('income_type')['days_employed'].median()"
   ]
  },
  {
   "cell_type": "markdown",
   "id": "dbc3168c",
   "metadata": {
    "deletable": false,
    "editable": false,
    "id": "dbc3168c"
   },
   "source": [
    "У двух типов (безработные и пенсионеры) получатся аномально большие значения. Исправить такие значения сложно, поэтому пока оставлю их как есть."
   ]
  },
  {
   "cell_type": "markdown",
   "id": "ff4378c2",
   "metadata": {
    "deletable": false,
    "editable": false,
    "id": "ff4378c2",
    "tags": [
     "start_task"
    ]
   },
   "source": [
    "**Выведу перечень уникальных значений столбца `children`.**"
   ]
  },
  {
   "cell_type": "code",
   "execution_count": 10,
   "id": "9bd0c232",
   "metadata": {
    "id": "9bd0c232"
   },
   "outputs": [
    {
     "data": {
      "text/plain": [
       "array([ 1,  0,  3,  2, -1,  4, 20,  5], dtype=int64)"
      ]
     },
     "execution_count": 10,
     "metadata": {},
     "output_type": "execute_result"
    }
   ],
   "source": [
    "data['children'].unique()"
   ]
  },
  {
   "cell_type": "markdown",
   "id": "8e911990",
   "metadata": {
    "deletable": false,
    "editable": false,
    "id": "8e911990",
    "tags": [
     "start_task"
    ]
   },
   "source": [
    "**В столбце `children` есть два аномальных значения. Удалю строки, в которых встречаются такие аномальные значения из датафрейма `data`.**"
   ]
  },
  {
   "cell_type": "code",
   "execution_count": 11,
   "id": "6d5ba289",
   "metadata": {
    "id": "6d5ba289"
   },
   "outputs": [],
   "source": [
    "data = data.loc[(data['children'] != -1) & (data['children'] != 20)]"
   ]
  },
  {
   "cell_type": "markdown",
   "id": "18d77455",
   "metadata": {
    "deletable": false,
    "editable": false,
    "id": "18d77455",
    "tags": [
     "start_task"
    ]
   },
   "source": [
    "**Ещё раз выведу перечень уникальных значений столбца `children`, чтобы убедиться, что артефакты удалены.**"
   ]
  },
  {
   "cell_type": "code",
   "execution_count": 12,
   "id": "2c5fa92c",
   "metadata": {
    "id": "2c5fa92c"
   },
   "outputs": [
    {
     "data": {
      "text/plain": [
       "array([1, 0, 3, 2, 4, 5], dtype=int64)"
      ]
     },
     "execution_count": 12,
     "metadata": {},
     "output_type": "execute_result"
    }
   ],
   "source": [
    "data['children'].unique()"
   ]
  },
  {
   "cell_type": "markdown",
   "id": "0ec07dee",
   "metadata": {
    "deletable": false,
    "editable": false,
    "id": "0ec07dee"
   },
   "source": [
    "### Удаление пропусков (продолжение)"
   ]
  },
  {
   "cell_type": "markdown",
   "id": "0fc3ae3f",
   "metadata": {
    "deletable": false,
    "editable": false,
    "id": "0fc3ae3f",
    "tags": [
     "start_task"
    ]
   },
   "source": [
    "**Заполню пропуски в столбце `days_employed` медианными значениями по каждому типу занятости `income_type`.**"
   ]
  },
  {
   "cell_type": "code",
   "execution_count": 13,
   "id": "e2aea7ac",
   "metadata": {
    "id": "e2aea7ac"
   },
   "outputs": [],
   "source": [
    "for d in data['income_type'].unique():\n",
    "    # на каждом шаге цикла с помощью атрибута loc выбираем строки,\n",
    "    # в которых в income_type текущий тип занятости (d) и есть пропуски в days_employed \n",
    "    data.loc[(data['income_type'] == d) & (data['days_employed'].isna()), 'days_employed'] =  data.loc[(data['income_type'] == d), 'days_employed'].median()"
   ]
  },
  {
   "cell_type": "markdown",
   "id": "97b0b795",
   "metadata": {
    "deletable": false,
    "editable": false,
    "id": "97b0b795",
    "tags": [
     "start_task"
    ]
   },
   "source": [
    "**Убежусь, что все пропуски заполнены. Проверю себя и ещё раз выведу количество пропущенных значений для каждого столбца с помощью двух методов.**"
   ]
  },
  {
   "cell_type": "markdown",
   "id": "b7a91af3-4904-4784-a837-47645fb45832",
   "metadata": {
    "deletable": false,
    "editable": false,
    "id": "f09d6878"
   },
   "source": []
  },
  {
   "cell_type": "code",
   "execution_count": 14,
   "id": "79632a21",
   "metadata": {
    "id": "79632a21"
   },
   "outputs": [
    {
     "data": {
      "text/plain": [
       "children            0\n",
       "days_employed       0\n",
       "dob_years           0\n",
       "education           0\n",
       "education_id        0\n",
       "family_status       0\n",
       "family_status_id    0\n",
       "gender              0\n",
       "income_type         0\n",
       "debt                0\n",
       "total_income        0\n",
       "purpose             0\n",
       "dtype: int64"
      ]
     },
     "execution_count": 14,
     "metadata": {},
     "output_type": "execute_result"
    }
   ],
   "source": [
    "data.isna().sum()"
   ]
  },
  {
   "cell_type": "markdown",
   "id": "bd4aeb20",
   "metadata": {
    "deletable": false,
    "editable": false,
    "id": "bd4aeb20"
   },
   "source": [
    "### Изменение типов данных"
   ]
  },
  {
   "cell_type": "markdown",
   "id": "963bfa58",
   "metadata": {
    "deletable": false,
    "editable": false,
    "id": "963bfa58",
    "tags": [
     "start_task"
    ]
   },
   "source": [
    "**Заменю вещественный тип данных в столбце `total_income` на целочисленный с помощью метода `astype()`.**"
   ]
  },
  {
   "cell_type": "code",
   "execution_count": 15,
   "id": "73da6ea0",
   "metadata": {
    "id": "73da6ea0"
   },
   "outputs": [],
   "source": [
    "data['total_income'] = data['total_income'].astype('int')"
   ]
  },
  {
   "cell_type": "markdown",
   "id": "d290239e",
   "metadata": {
    "deletable": false,
    "editable": false,
    "id": "d290239e"
   },
   "source": [
    "### Обработка дубликатов"
   ]
  },
  {
   "cell_type": "markdown",
   "id": "1b5844fd",
   "metadata": {
    "deletable": false,
    "editable": false,
    "id": "1b5844fd",
    "tags": [
     "start_task"
    ]
   },
   "source": [
    "**Обработаю неявные дубликаты в столбце `education`. В этом столбце есть одни и те же значения, но записанные по-разному: с использованием заглавных и строчных букв. Приведу их к нижнему регистру.**"
   ]
  },
  {
   "cell_type": "code",
   "execution_count": 16,
   "id": "3f2504b3",
   "metadata": {
    "id": "3f2504b3"
   },
   "outputs": [],
   "source": [
    "data['education'] = data['education'].str.lower()"
   ]
  },
  {
   "cell_type": "markdown",
   "id": "4c22acbc",
   "metadata": {
    "deletable": false,
    "editable": false,
    "id": "4c22acbc",
    "tags": [
     "start_task"
    ]
   },
   "source": [
    "**Выведу на экран количество строк-дубликатов в данных. Если такие строки присутствуют, удалю их.**"
   ]
  },
  {
   "cell_type": "code",
   "execution_count": 17,
   "id": "d34a4325",
   "metadata": {
    "id": "d34a4325"
   },
   "outputs": [
    {
     "data": {
      "text/plain": [
       "71"
      ]
     },
     "execution_count": 17,
     "metadata": {},
     "output_type": "execute_result"
    }
   ],
   "source": [
    "data.duplicated().sum()"
   ]
  },
  {
   "cell_type": "code",
   "execution_count": 18,
   "id": "6e1a6499",
   "metadata": {
    "id": "6e1a6499"
   },
   "outputs": [],
   "source": [
    "data = data.drop_duplicates()"
   ]
  },
  {
   "cell_type": "markdown",
   "id": "e5686ccc",
   "metadata": {
    "deletable": false,
    "editable": false,
    "id": "e5686ccc"
   },
   "source": [
    "### Категоризация данных"
   ]
  },
  {
   "cell_type": "markdown",
   "id": "636e9acd",
   "metadata": {
    "deletable": false,
    "editable": false,
    "id": "636e9acd",
    "tags": [
     "start_task"
    ]
   },
   "source": [
    "**На основании диапазонов, указанных ниже, создам в датафрейме `data` столбец `total_income_category` с категориями:**\n",
    "\n",
    "- 0–30000 — `'E'`;\n",
    "- 30001–50000 — `'D'`;\n",
    "- 50001–200000 — `'C'`;\n",
    "- 200001–1000000 — `'B'`;\n",
    "- 1000001 и выше — `'A'`.\n",
    "\n",
    "\n",
    "**Например, кредитополучателю с доходом 25000 нужно назначить категорию `'E'`, а клиенту, получающему 235000, — `'B'`. Использую собственную функцию с именем `categorize_income()` и метод `apply()`.**"
   ]
  },
  {
   "cell_type": "code",
   "execution_count": 19,
   "id": "880a77e5",
   "metadata": {
    "id": "880a77e5"
   },
   "outputs": [],
   "source": [
    "def categorize_income(income):\n",
    "    if income <= 30000:\n",
    "        return 'E'\n",
    "    if income >= 30000 and income <= 50000:\n",
    "        return 'D'\n",
    "    if income >= 50001 and income <= 200000:\n",
    "        return 'C'\n",
    "    if income >= 200001 and income <= 1000000:\n",
    "        return 'B'\n",
    "    return 'A'\n"
   ]
  },
  {
   "cell_type": "code",
   "execution_count": 20,
   "id": "5f670851",
   "metadata": {},
   "outputs": [],
   "source": [
    "data['total_income_category'] = data['total_income'].apply(categorize_income)"
   ]
  },
  {
   "cell_type": "markdown",
   "id": "3363b685",
   "metadata": {
    "deletable": false,
    "editable": false,
    "id": "3363b685",
    "tags": [
     "start_task"
    ]
   },
   "source": [
    "**Выведу на экран перечень уникальных целей взятия кредита из столбца `purpose`.**"
   ]
  },
  {
   "cell_type": "code",
   "execution_count": 21,
   "id": "e59f2c15",
   "metadata": {
    "id": "e59f2c15"
   },
   "outputs": [
    {
     "data": {
      "text/plain": [
       "array(['покупка жилья', 'приобретение автомобиля',\n",
       "       'дополнительное образование', 'сыграть свадьбу',\n",
       "       'операции с жильем', 'образование', 'на проведение свадьбы',\n",
       "       'покупка жилья для семьи', 'покупка недвижимости',\n",
       "       'покупка коммерческой недвижимости', 'покупка жилой недвижимости',\n",
       "       'строительство собственной недвижимости', 'недвижимость',\n",
       "       'строительство недвижимости', 'на покупку подержанного автомобиля',\n",
       "       'на покупку своего автомобиля',\n",
       "       'операции с коммерческой недвижимостью',\n",
       "       'строительство жилой недвижимости', 'жилье',\n",
       "       'операции со своей недвижимостью', 'автомобили',\n",
       "       'заняться образованием', 'сделка с подержанным автомобилем',\n",
       "       'получение образования', 'автомобиль', 'свадьба',\n",
       "       'получение дополнительного образования', 'покупка своего жилья',\n",
       "       'операции с недвижимостью', 'получение высшего образования',\n",
       "       'свой автомобиль', 'сделка с автомобилем',\n",
       "       'профильное образование', 'высшее образование',\n",
       "       'покупка жилья для сдачи', 'на покупку автомобиля', 'ремонт жилью',\n",
       "       'заняться высшим образованием'], dtype=object)"
      ]
     },
     "execution_count": 21,
     "metadata": {},
     "output_type": "execute_result"
    }
   ],
   "source": [
    "data['purpose'].unique()"
   ]
  },
  {
   "cell_type": "markdown",
   "id": "bb33e847",
   "metadata": {
    "deletable": false,
    "editable": false,
    "id": "bb33e847",
    "tags": [
     "start_task"
    ]
   },
   "source": [
    "**Создам функцию, которая на основании данных из столбца `purpose` сформирует новый столбец `purpose_category`, в который войдут следующие категории:**\n",
    "\n",
    "- `'операции с автомобилем'`,\n",
    "- `'операции с недвижимостью'`,\n",
    "- `'проведение свадьбы'`,\n",
    "- `'получение образования'`.\n",
    "\n",
    "**Например, если в столбце `purpose` находится подстрока `'на покупку автомобиля'`, то в столбце `purpose_category` должна появиться строка `'операции с автомобилем'`.**\n",
    "\n",
    "**Использую собственную функцию с именем `categorize_purpose()` и метод `apply()`. Изучу данные в столбце `purpose` и определю, какие подстроки помогут правильно определить категорию.**"
   ]
  },
  {
   "cell_type": "code",
   "execution_count": 22,
   "id": "63909b83",
   "metadata": {
    "id": "63909b83"
   },
   "outputs": [],
   "source": [
    "# создайте функцию categorize_purpose()\n",
    "def categorize_purpose(purpose_category):\n",
    "    if purpose_category.find('авто') >= 0:\n",
    "        return 'операции с автомобилем'\n",
    "    if purpose_category.find('жил') >= 0 or purpose_category.find('недвиж') >=0: \n",
    "        return 'операции с недвижимостью'\n",
    "    if purpose_category.find('свадьб') >= 0:\n",
    "        return 'проведение свадьбы'\n",
    "    if purpose_category.find('образов') >= 0:\n",
    "        return 'получение образования'\n"
   ]
  },
  {
   "cell_type": "code",
   "execution_count": 23,
   "id": "7cb4a81d",
   "metadata": {
    "id": "7cb4a81d"
   },
   "outputs": [],
   "source": [
    "# примените функцию методом apply()\n",
    "data['purpose_category'] = data['purpose'].apply(categorize_purpose)"
   ]
  },
  {
   "cell_type": "markdown",
   "id": "267a87e0-9180-421d-b955-d74251f6720c",
   "metadata": {},
   "source": [
    "## Исследование данные"
   ]
  },
  {
   "cell_type": "markdown",
   "id": "3f30f907-3188-4dff-a4a2-02ec623c07c0",
   "metadata": {},
   "source": [
    "### Есть ли зависимость между количеством детей и возвратом кредита в срок?"
   ]
  },
  {
   "cell_type": "code",
   "execution_count": 24,
   "id": "94864331-e714-4922-86f4-8a83a530b2a0",
   "metadata": {},
   "outputs": [
    {
     "data": {
      "text/html": [
       "<div>\n",
       "<style scoped>\n",
       "    .dataframe tbody tr th:only-of-type {\n",
       "        vertical-align: middle;\n",
       "    }\n",
       "\n",
       "    .dataframe tbody tr th {\n",
       "        vertical-align: top;\n",
       "    }\n",
       "\n",
       "    .dataframe thead th {\n",
       "        text-align: right;\n",
       "    }\n",
       "</style>\n",
       "<table border=\"1\" class=\"dataframe\">\n",
       "  <thead>\n",
       "    <tr style=\"text-align: right;\">\n",
       "      <th></th>\n",
       "      <th>children</th>\n",
       "      <th>count</th>\n",
       "      <th>mean</th>\n",
       "    </tr>\n",
       "  </thead>\n",
       "  <tbody>\n",
       "    <tr>\n",
       "      <th>0</th>\n",
       "      <td>0</td>\n",
       "      <td>14091</td>\n",
       "      <td>0.075438</td>\n",
       "    </tr>\n",
       "    <tr>\n",
       "      <th>1</th>\n",
       "      <td>1</td>\n",
       "      <td>4808</td>\n",
       "      <td>0.092346</td>\n",
       "    </tr>\n",
       "    <tr>\n",
       "      <th>2</th>\n",
       "      <td>2</td>\n",
       "      <td>2052</td>\n",
       "      <td>0.094542</td>\n",
       "    </tr>\n",
       "    <tr>\n",
       "      <th>3</th>\n",
       "      <td>3</td>\n",
       "      <td>330</td>\n",
       "      <td>0.081818</td>\n",
       "    </tr>\n",
       "    <tr>\n",
       "      <th>4</th>\n",
       "      <td>4</td>\n",
       "      <td>41</td>\n",
       "      <td>0.097561</td>\n",
       "    </tr>\n",
       "    <tr>\n",
       "      <th>5</th>\n",
       "      <td>5</td>\n",
       "      <td>9</td>\n",
       "      <td>0.000000</td>\n",
       "    </tr>\n",
       "  </tbody>\n",
       "</table>\n",
       "</div>"
      ],
      "text/plain": [
       "   children  count      mean\n",
       "0         0  14091  0.075438\n",
       "1         1   4808  0.092346\n",
       "2         2   2052  0.094542\n",
       "3         3    330  0.081818\n",
       "4         4     41  0.097561\n",
       "5         5      9  0.000000"
      ]
     },
     "execution_count": 24,
     "metadata": {},
     "output_type": "execute_result"
    }
   ],
   "source": [
    "data.groupby('children', as_index=False)['debt'].agg(['count', 'mean'])"
   ]
  },
  {
   "cell_type": "markdown",
   "id": "fe57c363-6f4b-463b-832a-0b56ee5112e2",
   "metadata": {},
   "source": [
    "- Среди всех групп наименьший показатель задолженостей у клиентов без детей: 7.54%. У клиентов с одним, двумя  и тремя детьми 9.23%, 9.45%  и 8.18% соответсвенно. Разница в 1% не несёт значительного различия по своевременности выплат из за количества детей. К тому же клиентов с детьми от 3х слишком мало для точных измерений."
   ]
  },
  {
   "cell_type": "markdown",
   "id": "abbaa99c-7945-4a59-9cd0-82ccdd854008",
   "metadata": {},
   "source": [
    "Проведу анализ, как сильно влияет наличие детей к задержкам по выплате у клиентов."
   ]
  },
  {
   "cell_type": "code",
   "execution_count": 25,
   "id": "28aacfc4-b63d-4405-9e7d-a6a076b6af48",
   "metadata": {},
   "outputs": [],
   "source": [
    "data['have_children'] = data['children'] > 0"
   ]
  },
  {
   "cell_type": "code",
   "execution_count": 26,
   "id": "5dc31bc6-0f5c-4077-8494-c0578358b12a",
   "metadata": {},
   "outputs": [
    {
     "data": {
      "text/html": [
       "<div>\n",
       "<style scoped>\n",
       "    .dataframe tbody tr th:only-of-type {\n",
       "        vertical-align: middle;\n",
       "    }\n",
       "\n",
       "    .dataframe tbody tr th {\n",
       "        vertical-align: top;\n",
       "    }\n",
       "\n",
       "    .dataframe thead th {\n",
       "        text-align: right;\n",
       "    }\n",
       "</style>\n",
       "<table border=\"1\" class=\"dataframe\">\n",
       "  <thead>\n",
       "    <tr style=\"text-align: right;\">\n",
       "      <th></th>\n",
       "      <th>have_children</th>\n",
       "      <th>count</th>\n",
       "      <th>mean</th>\n",
       "      <th>sum</th>\n",
       "    </tr>\n",
       "  </thead>\n",
       "  <tbody>\n",
       "    <tr>\n",
       "      <th>0</th>\n",
       "      <td>False</td>\n",
       "      <td>14091</td>\n",
       "      <td>0.075438</td>\n",
       "      <td>1063</td>\n",
       "    </tr>\n",
       "    <tr>\n",
       "      <th>1</th>\n",
       "      <td>True</td>\n",
       "      <td>7240</td>\n",
       "      <td>0.092403</td>\n",
       "      <td>669</td>\n",
       "    </tr>\n",
       "  </tbody>\n",
       "</table>\n",
       "</div>"
      ],
      "text/plain": [
       "   have_children  count      mean   sum\n",
       "0          False  14091  0.075438  1063\n",
       "1           True   7240  0.092403   669"
      ]
     },
     "execution_count": 26,
     "metadata": {},
     "output_type": "execute_result"
    }
   ],
   "source": [
    "data.groupby('have_children', as_index=False)['debt'].agg(['count', 'mean','sum'])"
   ]
  },
  {
   "cell_type": "markdown",
   "id": "5f28bb28-759d-43e2-af03-451d6fb71e05",
   "metadata": {},
   "source": [
    "- Доля задолженостей у клиентов без детей состовляет 7.54%.\n",
    "Доля задолженостей у клиентов с детьми состовляет 9.24%"
   ]
  },
  {
   "cell_type": "markdown",
   "id": "27452424-893d-4aad-9675-3a52dc724928",
   "metadata": {},
   "source": [
    "**Вывод:** Исходя из анализа данных, наличие детей в среднем уменьшает вероятность своевременной оплаты кредита.\n",
    "Само же количество детей незначительно влияет на эту возможность."
   ]
  },
  {
   "cell_type": "markdown",
   "id": "5b4d33db-484d-483d-bb53-8ecbd87db69d",
   "metadata": {},
   "source": [
    "### Есть ли зависимость между семейным положением и возвратом кредита в срок?"
   ]
  },
  {
   "cell_type": "code",
   "execution_count": 27,
   "id": "92e4c571-cbca-44d4-9ade-b6a7f6aff10e",
   "metadata": {},
   "outputs": [
    {
     "data": {
      "text/html": [
       "<div>\n",
       "<style scoped>\n",
       "    .dataframe tbody tr th:only-of-type {\n",
       "        vertical-align: middle;\n",
       "    }\n",
       "\n",
       "    .dataframe tbody tr th {\n",
       "        vertical-align: top;\n",
       "    }\n",
       "\n",
       "    .dataframe thead th {\n",
       "        text-align: right;\n",
       "    }\n",
       "</style>\n",
       "<table border=\"1\" class=\"dataframe\">\n",
       "  <thead>\n",
       "    <tr style=\"text-align: right;\">\n",
       "      <th></th>\n",
       "      <th>family_status</th>\n",
       "      <th>count</th>\n",
       "      <th>mean</th>\n",
       "    </tr>\n",
       "  </thead>\n",
       "  <tbody>\n",
       "    <tr>\n",
       "      <th>0</th>\n",
       "      <td>Не женат / не замужем</td>\n",
       "      <td>2796</td>\n",
       "      <td>0.097639</td>\n",
       "    </tr>\n",
       "    <tr>\n",
       "      <th>1</th>\n",
       "      <td>в разводе</td>\n",
       "      <td>1189</td>\n",
       "      <td>0.070648</td>\n",
       "    </tr>\n",
       "    <tr>\n",
       "      <th>2</th>\n",
       "      <td>вдовец / вдова</td>\n",
       "      <td>951</td>\n",
       "      <td>0.066246</td>\n",
       "    </tr>\n",
       "    <tr>\n",
       "      <th>3</th>\n",
       "      <td>гражданский брак</td>\n",
       "      <td>4134</td>\n",
       "      <td>0.093130</td>\n",
       "    </tr>\n",
       "    <tr>\n",
       "      <th>4</th>\n",
       "      <td>женат / замужем</td>\n",
       "      <td>12261</td>\n",
       "      <td>0.075606</td>\n",
       "    </tr>\n",
       "  </tbody>\n",
       "</table>\n",
       "</div>"
      ],
      "text/plain": [
       "           family_status  count      mean\n",
       "0  Не женат / не замужем   2796  0.097639\n",
       "1              в разводе   1189  0.070648\n",
       "2         вдовец / вдова    951  0.066246\n",
       "3       гражданский брак   4134  0.093130\n",
       "4        женат / замужем  12261  0.075606"
      ]
     },
     "execution_count": 27,
     "metadata": {},
     "output_type": "execute_result"
    }
   ],
   "source": [
    "data.groupby('family_status', as_index=False)['debt'].agg(['count', 'mean'])"
   ]
  },
  {
   "cell_type": "markdown",
   "id": "86e681d0-999e-4dc5-b7f2-6235cab9e4fc",
   "metadata": {},
   "source": [
    "- Лучшие показатели по своевременной оплате у вдов и вдовцов: 6.6%.\n",
    "Второе место делят те, кто разведён - 7% и те, кто состоит в браке - 7.5%.\n",
    "На третьем месте клиенты в гражданском браке - 9.3% и те, кто не состоит в браке - 9.7%.\n",
    "Разобью на две категории: клиенты с парой и холостые - чтобы понять, влияет ли само наличие пары на задолженности."
   ]
  },
  {
   "cell_type": "code",
   "execution_count": 28,
   "id": "77bec7e2-78a7-4ed1-b26c-57fbc0eb8275",
   "metadata": {},
   "outputs": [],
   "source": [
    "def categorize_family_status(row):\n",
    "    try:\n",
    "        if 'в разводе' in row or 'вдовец / вдова' in row or 'Не женат / не замужем' in row:\n",
    "            return 'холостые'\n",
    "        elif 'гражданский брак' in row or 'женат / замужем' in row:\n",
    "            return 'есть пара'\n",
    "    except:\n",
    "        return 'нет категории'\n",
    "data['common_status_family'] = data['family_status'].apply(categorize_family_status)"
   ]
  },
  {
   "cell_type": "code",
   "execution_count": 29,
   "id": "0677a041-1cf3-4a3d-8ae3-61fbcd2d3de4",
   "metadata": {},
   "outputs": [
    {
     "data": {
      "text/html": [
       "<div>\n",
       "<style scoped>\n",
       "    .dataframe tbody tr th:only-of-type {\n",
       "        vertical-align: middle;\n",
       "    }\n",
       "\n",
       "    .dataframe tbody tr th {\n",
       "        vertical-align: top;\n",
       "    }\n",
       "\n",
       "    .dataframe thead th {\n",
       "        text-align: right;\n",
       "    }\n",
       "</style>\n",
       "<table border=\"1\" class=\"dataframe\">\n",
       "  <thead>\n",
       "    <tr style=\"text-align: right;\">\n",
       "      <th></th>\n",
       "      <th>common_status_family</th>\n",
       "      <th>count</th>\n",
       "      <th>mean</th>\n",
       "    </tr>\n",
       "  </thead>\n",
       "  <tbody>\n",
       "    <tr>\n",
       "      <th>0</th>\n",
       "      <td>есть пара</td>\n",
       "      <td>16395</td>\n",
       "      <td>0.080024</td>\n",
       "    </tr>\n",
       "    <tr>\n",
       "      <th>1</th>\n",
       "      <td>холостые</td>\n",
       "      <td>4936</td>\n",
       "      <td>0.085089</td>\n",
       "    </tr>\n",
       "  </tbody>\n",
       "</table>\n",
       "</div>"
      ],
      "text/plain": [
       "  common_status_family  count      mean\n",
       "0            есть пара  16395  0.080024\n",
       "1             холостые   4936  0.085089"
      ]
     },
     "execution_count": 29,
     "metadata": {},
     "output_type": "execute_result"
    }
   ],
   "source": [
    "data.groupby('common_status_family', as_index=False)['debt'].agg(['count', 'mean'])"
   ]
  },
  {
   "cell_type": "markdown",
   "id": "d24c632f-471f-493b-baf4-6dbfb0924795",
   "metadata": {},
   "source": [
    "- У клиентов в паре процент задолженостей составляет 8%, а у холостых 8.5%. Сильной разницы нет."
   ]
  },
  {
   "cell_type": "markdown",
   "id": "f70ae363-7d67-4cee-bf82-40400d0fc4e9",
   "metadata": {},
   "source": [
    "**Вывод:** По полученным данным, семейные люди более ответственные и лучше справляются с планированием бюджета для выплат, даже те, кто развёлся. Предположительно большая часть вдов и вдовцов пенсионеры, которые также состояли в браке (данных достаточно для проведения дополнительных иследований). Само наличие пары не сильно влияет на своевременную оплату долга (разница пол процента).\n",
    "Между семейным положением и возвратом кредита в срок есть зависимость."
   ]
  },
  {
   "cell_type": "markdown",
   "id": "9f2d78a9-5cc3-4e4d-8020-6dabfe56d0c0",
   "metadata": {},
   "source": [
    "### Есть ли зависимость между уровнем дохода и возвратом кредита в срок?"
   ]
  },
  {
   "cell_type": "code",
   "execution_count": 30,
   "id": "7a37108c-ab34-465d-8636-7e065fdb54c6",
   "metadata": {},
   "outputs": [
    {
     "data": {
      "text/html": [
       "<div>\n",
       "<style scoped>\n",
       "    .dataframe tbody tr th:only-of-type {\n",
       "        vertical-align: middle;\n",
       "    }\n",
       "\n",
       "    .dataframe tbody tr th {\n",
       "        vertical-align: top;\n",
       "    }\n",
       "\n",
       "    .dataframe thead th {\n",
       "        text-align: right;\n",
       "    }\n",
       "</style>\n",
       "<table border=\"1\" class=\"dataframe\">\n",
       "  <thead>\n",
       "    <tr style=\"text-align: right;\">\n",
       "      <th></th>\n",
       "      <th>total_income_category</th>\n",
       "      <th>count</th>\n",
       "      <th>mean</th>\n",
       "    </tr>\n",
       "  </thead>\n",
       "  <tbody>\n",
       "    <tr>\n",
       "      <th>0</th>\n",
       "      <td>A</td>\n",
       "      <td>25</td>\n",
       "      <td>0.080000</td>\n",
       "    </tr>\n",
       "    <tr>\n",
       "      <th>1</th>\n",
       "      <td>B</td>\n",
       "      <td>5014</td>\n",
       "      <td>0.070602</td>\n",
       "    </tr>\n",
       "    <tr>\n",
       "      <th>2</th>\n",
       "      <td>C</td>\n",
       "      <td>15921</td>\n",
       "      <td>0.084982</td>\n",
       "    </tr>\n",
       "    <tr>\n",
       "      <th>3</th>\n",
       "      <td>D</td>\n",
       "      <td>349</td>\n",
       "      <td>0.060172</td>\n",
       "    </tr>\n",
       "    <tr>\n",
       "      <th>4</th>\n",
       "      <td>E</td>\n",
       "      <td>22</td>\n",
       "      <td>0.090909</td>\n",
       "    </tr>\n",
       "  </tbody>\n",
       "</table>\n",
       "</div>"
      ],
      "text/plain": [
       "  total_income_category  count      mean\n",
       "0                     A     25  0.080000\n",
       "1                     B   5014  0.070602\n",
       "2                     C  15921  0.084982\n",
       "3                     D    349  0.060172\n",
       "4                     E     22  0.090909"
      ]
     },
     "execution_count": 30,
     "metadata": {},
     "output_type": "execute_result"
    }
   ],
   "source": [
    "data.groupby('total_income_category', as_index=False)['debt'].agg(['count', 'mean'])"
   ]
  },
  {
   "cell_type": "markdown",
   "id": "535ae3be-7c60-45bb-9fe6-e52c9744f27d",
   "metadata": {},
   "source": [
    "- В категориях 'А','D','Е' недостаточно большие выборки для уверенного расчёта. Тем не менее в категории зарплаты 'D'(30 001 – 50 000) наименьший уровень просрочивших выплату (6%). В категории 'B'(200 001 – 1 000 000) и 'C'(50 001 – 200 000) уже хорошая выборка. Чаще расчитываются по долгам люди в категории 'B'(7%), а в категории 'C' уже 8.4% клиентов с задолженностью."
   ]
  },
  {
   "cell_type": "markdown",
   "id": "91c5a0a1-a63a-4e5f-8b58-4d54bdc48d0c",
   "metadata": {},
   "source": [
    "**Вывод:** Между классом 'B' и 'C' есть зависимость от уровня дохода, в других группах велика вероятность погрешности в связи c малой выборкой. У людей с более высоким доходом возможность вернуть долг своевременно выше."
   ]
  },
  {
   "cell_type": "markdown",
   "id": "405b40ad-338d-4c2e-acd7-93b85c500636",
   "metadata": {},
   "source": [
    "### Как разные цели кредита влияют на его возврат в срок?"
   ]
  },
  {
   "cell_type": "code",
   "execution_count": 31,
   "id": "fdf0c572-a080-450c-9211-6910ffb623ad",
   "metadata": {},
   "outputs": [
    {
     "data": {
      "text/html": [
       "<div>\n",
       "<style scoped>\n",
       "    .dataframe tbody tr th:only-of-type {\n",
       "        vertical-align: middle;\n",
       "    }\n",
       "\n",
       "    .dataframe tbody tr th {\n",
       "        vertical-align: top;\n",
       "    }\n",
       "\n",
       "    .dataframe thead th {\n",
       "        text-align: right;\n",
       "    }\n",
       "</style>\n",
       "<table border=\"1\" class=\"dataframe\">\n",
       "  <thead>\n",
       "    <tr style=\"text-align: right;\">\n",
       "      <th></th>\n",
       "      <th>purpose_category</th>\n",
       "      <th>count</th>\n",
       "      <th>mean</th>\n",
       "    </tr>\n",
       "  </thead>\n",
       "  <tbody>\n",
       "    <tr>\n",
       "      <th>0</th>\n",
       "      <td>операции с автомобилем</td>\n",
       "      <td>4279</td>\n",
       "      <td>0.093480</td>\n",
       "    </tr>\n",
       "    <tr>\n",
       "      <th>1</th>\n",
       "      <td>операции с недвижимостью</td>\n",
       "      <td>10751</td>\n",
       "      <td>0.072551</td>\n",
       "    </tr>\n",
       "    <tr>\n",
       "      <th>2</th>\n",
       "      <td>получение образования</td>\n",
       "      <td>3988</td>\n",
       "      <td>0.092528</td>\n",
       "    </tr>\n",
       "    <tr>\n",
       "      <th>3</th>\n",
       "      <td>проведение свадьбы</td>\n",
       "      <td>2313</td>\n",
       "      <td>0.079118</td>\n",
       "    </tr>\n",
       "  </tbody>\n",
       "</table>\n",
       "</div>"
      ],
      "text/plain": [
       "           purpose_category  count      mean\n",
       "0    операции с автомобилем   4279  0.093480\n",
       "1  операции с недвижимостью  10751  0.072551\n",
       "2     получение образования   3988  0.092528\n",
       "3        проведение свадьбы   2313  0.079118"
      ]
     },
     "execution_count": 31,
     "metadata": {},
     "output_type": "execute_result"
    }
   ],
   "source": [
    "data.groupby('purpose_category', as_index=False)['debt'].agg(['count', 'mean'])"
   ]
  },
  {
   "cell_type": "markdown",
   "id": "b9beacf0-1a0a-42a0-bd26-d1ebd9c382bf",
   "metadata": {},
   "source": [
    "**Вывод:** Чаще всего вовремя отдают долг клиенты, взявшие кредит на недвижимость (7.2%) и на свадьбу (7.9%).\n",
    "Хуже дела обстоят у тех, кто брал кредит на автомобиль (9.3%) и на образование(9.2%)."
   ]
  },
  {
   "cell_type": "markdown",
   "id": "c57346e8-157e-41d4-8ac9-ffab789ec275",
   "metadata": {},
   "source": [
    "## Выводы"
   ]
  },
  {
   "cell_type": "markdown",
   "id": "d38f77f7-4ac5-4946-aab6-3af6eba30448",
   "metadata": {},
   "source": [
    "1. Исходя из анализа данных, наличие детей в среднем уменьшает вероятность своевременной оплаты кредита. Само же количество детей незначительно влияет на эту возможность.\n",
    "2. По полученным данным, семейные люди более финансово граммотные и лучше справляются с планированием бюджета для выплат, даже те, кто развёлся. Предположительно большая часть вдов и вдовцов пенсионеры, которые также состояли в браке (данных достаточно для проведения дополнительных иследований). Само наличие пары не сильно влияет на своевременную оплату долга (разница пол процента).\n",
    "Между семейным положением и возвратом кредита в срок есть зависимость.\n",
    "3. Между классом 'B'(от 200 тыс.. до 1 млн.) и 'C'(от 50 тыс. до 200 тыс.) есть зависимость от уровня дохода, в других группах велика вероятность погрешности в связи c малой выборкой. У людей с более высоким доходом возможность вернуть долг своевременно выше.\n",
    "4. Чаще всего вовремя отдают долг клиенты, взявшие кредит на недвижимость (7.2%) и на свадьбу (7.9%). Хуже дела обстоят у тех, кто брал кредит на автомобиль (9.3%) и на образование(9.2%)\n",
    "5. По полученным данным, с наибольшей веротяность кредит вернут клиенты, состоящие в браке, без детей, с доходом от 200 тыс. до 1 млн., взявшие кредит на недвижимость. И с наименьшей вероятностью вовремя погасят задолженность клиенты, не состоящие в браке, с детьми, с доходом 50 тыс. – 200 тыс., взявшие кредит на автомобиль."
   ]
  },
  {
   "cell_type": "code",
   "execution_count": null,
   "id": "d9ebd14f-f65a-414d-9172-d01e76ccc2ab",
   "metadata": {},
   "outputs": [],
   "source": []
  }
 ],
 "metadata": {
  "ExecuteTimeLog": [
   {
    "duration": 399,
    "start_time": "2024-04-29T08:16:39.363Z"
   },
   {
    "duration": 237,
    "start_time": "2024-04-29T08:17:46.899Z"
   },
   {
    "duration": 18,
    "start_time": "2024-04-29T08:44:23.364Z"
   },
   {
    "duration": 12,
    "start_time": "2024-04-29T08:45:47.847Z"
   },
   {
    "duration": 33,
    "start_time": "2024-04-29T08:53:30.394Z"
   },
   {
    "duration": 61,
    "start_time": "2024-04-29T08:55:01.260Z"
   },
   {
    "duration": 15,
    "start_time": "2024-04-29T08:55:07.110Z"
   },
   {
    "duration": 12,
    "start_time": "2024-04-29T08:55:25.678Z"
   },
   {
    "duration": 14,
    "start_time": "2024-04-29T08:55:57.179Z"
   },
   {
    "duration": 13,
    "start_time": "2024-04-29T08:58:02.823Z"
   },
   {
    "duration": 15,
    "start_time": "2024-04-29T08:58:23.203Z"
   },
   {
    "duration": 13,
    "start_time": "2024-04-29T08:58:31.966Z"
   },
   {
    "duration": 7,
    "start_time": "2024-04-29T08:58:56.028Z"
   },
   {
    "duration": 7,
    "start_time": "2024-04-29T09:01:54.761Z"
   },
   {
    "duration": 38,
    "start_time": "2024-04-29T09:02:44.916Z"
   },
   {
    "duration": 19,
    "start_time": "2024-04-29T09:03:04.653Z"
   },
   {
    "duration": 14,
    "start_time": "2024-04-29T09:03:20.581Z"
   },
   {
    "duration": 19,
    "start_time": "2024-04-29T09:03:25.720Z"
   },
   {
    "duration": 15,
    "start_time": "2024-04-29T09:03:37.678Z"
   },
   {
    "duration": 8,
    "start_time": "2024-04-29T09:03:51.281Z"
   },
   {
    "duration": 14,
    "start_time": "2024-04-29T09:05:14.758Z"
   },
   {
    "duration": 5,
    "start_time": "2024-04-29T09:11:32.577Z"
   },
   {
    "duration": 2,
    "start_time": "2024-04-29T09:11:59.344Z"
   },
   {
    "duration": 3,
    "start_time": "2024-04-29T09:12:02.172Z"
   },
   {
    "duration": 2,
    "start_time": "2024-04-29T09:12:32.052Z"
   },
   {
    "duration": 3,
    "start_time": "2024-04-29T09:13:22.161Z"
   },
   {
    "duration": 2,
    "start_time": "2024-04-29T09:13:36.691Z"
   },
   {
    "duration": 3,
    "start_time": "2024-04-29T09:14:09.954Z"
   },
   {
    "duration": 3,
    "start_time": "2024-04-29T09:15:24.100Z"
   },
   {
    "duration": 3,
    "start_time": "2024-04-29T09:15:31.403Z"
   },
   {
    "duration": 3,
    "start_time": "2024-04-29T09:17:22.344Z"
   },
   {
    "duration": 374,
    "start_time": "2024-04-29T09:18:03.473Z"
   },
   {
    "duration": 63,
    "start_time": "2024-04-29T09:18:03.848Z"
   },
   {
    "duration": 17,
    "start_time": "2024-04-29T09:18:03.913Z"
   },
   {
    "duration": 17,
    "start_time": "2024-04-29T09:18:03.932Z"
   },
   {
    "duration": 8,
    "start_time": "2024-04-29T09:18:03.951Z"
   },
   {
    "duration": 5,
    "start_time": "2024-04-29T09:18:03.960Z"
   },
   {
    "duration": 3,
    "start_time": "2024-04-29T09:18:03.966Z"
   },
   {
    "duration": 9,
    "start_time": "2024-04-29T09:18:03.970Z"
   },
   {
    "duration": 2,
    "start_time": "2024-04-29T09:18:03.984Z"
   },
   {
    "duration": 3,
    "start_time": "2024-04-29T09:18:03.987Z"
   },
   {
    "duration": 3,
    "start_time": "2024-04-29T09:18:03.991Z"
   },
   {
    "duration": 3,
    "start_time": "2024-04-29T09:18:03.995Z"
   },
   {
    "duration": 3,
    "start_time": "2024-04-29T09:18:03.999Z"
   },
   {
    "duration": 2,
    "start_time": "2024-04-29T09:18:04.004Z"
   },
   {
    "duration": 4,
    "start_time": "2024-04-29T09:18:04.007Z"
   },
   {
    "duration": 5,
    "start_time": "2024-04-29T09:18:04.012Z"
   },
   {
    "duration": 3,
    "start_time": "2024-04-29T09:18:04.018Z"
   },
   {
    "duration": 3,
    "start_time": "2024-04-29T09:18:04.022Z"
   },
   {
    "duration": 4,
    "start_time": "2024-04-29T09:18:04.026Z"
   },
   {
    "duration": 7,
    "start_time": "2024-04-29T09:18:04.031Z"
   },
   {
    "duration": 3,
    "start_time": "2024-04-29T09:18:04.039Z"
   },
   {
    "duration": 4,
    "start_time": "2024-04-29T09:18:04.043Z"
   },
   {
    "duration": 10,
    "start_time": "2024-04-29T09:18:40.787Z"
   },
   {
    "duration": 14,
    "start_time": "2024-04-29T09:18:58.818Z"
   },
   {
    "duration": 55,
    "start_time": "2024-04-29T09:20:11.447Z"
   },
   {
    "duration": 9,
    "start_time": "2024-04-29T09:20:15.325Z"
   },
   {
    "duration": 1450,
    "start_time": "2024-04-29T09:20:32.904Z"
   },
   {
    "duration": 5,
    "start_time": "2024-04-29T09:20:50.872Z"
   },
   {
    "duration": 9,
    "start_time": "2024-04-29T09:21:02.988Z"
   },
   {
    "duration": 64,
    "start_time": "2024-04-29T09:21:19.924Z"
   },
   {
    "duration": 50,
    "start_time": "2024-04-29T09:21:25.828Z"
   },
   {
    "duration": 8,
    "start_time": "2024-04-29T09:21:39.397Z"
   },
   {
    "duration": 7,
    "start_time": "2024-04-29T09:21:54.639Z"
   },
   {
    "duration": 7,
    "start_time": "2024-04-29T09:22:06.191Z"
   },
   {
    "duration": 9,
    "start_time": "2024-04-29T09:41:40.883Z"
   },
   {
    "duration": 7,
    "start_time": "2024-04-29T09:42:33.721Z"
   },
   {
    "duration": 6,
    "start_time": "2024-04-29T09:48:34.063Z"
   },
   {
    "duration": 13,
    "start_time": "2024-04-29T09:48:46.647Z"
   },
   {
    "duration": 19,
    "start_time": "2024-04-29T09:49:17.776Z"
   },
   {
    "duration": 4,
    "start_time": "2024-04-29T09:57:07.575Z"
   },
   {
    "duration": 7,
    "start_time": "2024-04-29T09:57:26.982Z"
   },
   {
    "duration": 7,
    "start_time": "2024-04-29T09:57:30.355Z"
   },
   {
    "duration": 6,
    "start_time": "2024-04-29T09:57:45.014Z"
   },
   {
    "duration": 6,
    "start_time": "2024-04-29T09:57:52.936Z"
   },
   {
    "duration": 5,
    "start_time": "2024-04-29T09:57:59.714Z"
   },
   {
    "duration": 4,
    "start_time": "2024-04-29T10:04:02.789Z"
   },
   {
    "duration": 17,
    "start_time": "2024-04-29T10:04:17.773Z"
   },
   {
    "duration": 1045,
    "start_time": "2024-04-29T10:04:28.211Z"
   },
   {
    "duration": 15,
    "start_time": "2024-04-29T10:04:34.842Z"
   },
   {
    "duration": 6,
    "start_time": "2024-04-29T10:04:44.098Z"
   },
   {
    "duration": 28,
    "start_time": "2024-04-29T10:04:53.816Z"
   },
   {
    "duration": 5,
    "start_time": "2024-04-29T10:04:55.600Z"
   },
   {
    "duration": 616,
    "start_time": "2024-04-29T10:05:44.448Z"
   },
   {
    "duration": 28,
    "start_time": "2024-04-29T10:06:10.670Z"
   },
   {
    "duration": 11,
    "start_time": "2024-04-29T10:12:16.377Z"
   },
   {
    "duration": 212,
    "start_time": "2024-04-29T10:13:00.917Z"
   },
   {
    "duration": 4,
    "start_time": "2024-04-29T10:13:05.582Z"
   },
   {
    "duration": 3,
    "start_time": "2024-04-29T10:13:14.178Z"
   },
   {
    "duration": 4,
    "start_time": "2024-04-29T10:14:23.223Z"
   },
   {
    "duration": 4,
    "start_time": "2024-04-29T10:14:42.003Z"
   },
   {
    "duration": 4,
    "start_time": "2024-04-29T10:14:52.556Z"
   },
   {
    "duration": 3,
    "start_time": "2024-04-29T10:15:57.998Z"
   },
   {
    "duration": 15,
    "start_time": "2024-04-29T10:24:08.614Z"
   },
   {
    "duration": 80,
    "start_time": "2024-04-29T10:26:54.474Z"
   },
   {
    "duration": 64,
    "start_time": "2024-04-29T10:27:00.982Z"
   },
   {
    "duration": 3,
    "start_time": "2024-04-29T10:27:07.619Z"
   },
   {
    "duration": 8,
    "start_time": "2024-04-29T10:41:37.165Z"
   },
   {
    "duration": 9,
    "start_time": "2024-04-29T10:41:49.892Z"
   },
   {
    "duration": 6,
    "start_time": "2024-04-29T10:42:14.607Z"
   },
   {
    "duration": 28,
    "start_time": "2024-04-29T12:00:18.828Z"
   },
   {
    "duration": 66,
    "start_time": "2024-04-29T12:00:32.268Z"
   },
   {
    "duration": 7,
    "start_time": "2024-04-29T12:00:59.166Z"
   },
   {
    "duration": 7,
    "start_time": "2024-04-29T12:01:30.936Z"
   },
   {
    "duration": 6,
    "start_time": "2024-04-29T12:02:18.906Z"
   },
   {
    "duration": 3,
    "start_time": "2024-04-29T12:03:51.391Z"
   },
   {
    "duration": 6,
    "start_time": "2024-04-29T12:04:23.589Z"
   },
   {
    "duration": 5,
    "start_time": "2024-04-29T12:04:29.211Z"
   },
   {
    "duration": 6,
    "start_time": "2024-04-29T12:05:11.919Z"
   },
   {
    "duration": 7,
    "start_time": "2024-04-29T12:05:19.262Z"
   },
   {
    "duration": 4,
    "start_time": "2024-04-29T12:05:34.373Z"
   },
   {
    "duration": 29,
    "start_time": "2024-04-29T12:08:32.227Z"
   },
   {
    "duration": 28,
    "start_time": "2024-04-29T12:11:26.782Z"
   },
   {
    "duration": 28,
    "start_time": "2024-04-29T12:15:51.248Z"
   },
   {
    "duration": 308,
    "start_time": "2024-04-29T12:16:01.539Z"
   },
   {
    "duration": 69,
    "start_time": "2024-04-29T12:16:01.849Z"
   },
   {
    "duration": 18,
    "start_time": "2024-04-29T12:16:01.919Z"
   },
   {
    "duration": 22,
    "start_time": "2024-04-29T12:16:01.939Z"
   },
   {
    "duration": 21,
    "start_time": "2024-04-29T12:16:01.962Z"
   },
   {
    "duration": 35,
    "start_time": "2024-04-29T12:16:01.984Z"
   },
   {
    "duration": 4,
    "start_time": "2024-04-29T12:16:02.020Z"
   },
   {
    "duration": 14,
    "start_time": "2024-04-29T12:16:02.025Z"
   },
   {
    "duration": 30,
    "start_time": "2024-04-29T12:16:02.040Z"
   },
   {
    "duration": 12,
    "start_time": "2024-04-29T12:16:02.071Z"
   },
   {
    "duration": 12,
    "start_time": "2024-04-29T12:16:02.084Z"
   },
   {
    "duration": 4,
    "start_time": "2024-04-29T12:16:02.097Z"
   },
   {
    "duration": 46,
    "start_time": "2024-04-29T12:16:02.103Z"
   },
   {
    "duration": 2,
    "start_time": "2024-04-29T12:16:02.152Z"
   },
   {
    "duration": 6,
    "start_time": "2024-04-29T12:16:02.156Z"
   },
   {
    "duration": 34,
    "start_time": "2024-04-29T12:16:02.163Z"
   },
   {
    "duration": 24,
    "start_time": "2024-04-29T12:16:02.198Z"
   },
   {
    "duration": 19,
    "start_time": "2024-04-29T12:16:02.223Z"
   },
   {
    "duration": 18,
    "start_time": "2024-04-29T12:16:02.243Z"
   },
   {
    "duration": 24,
    "start_time": "2024-04-29T12:16:02.262Z"
   },
   {
    "duration": 14,
    "start_time": "2024-04-29T12:16:02.287Z"
   },
   {
    "duration": 20,
    "start_time": "2024-04-29T12:16:02.302Z"
   },
   {
    "duration": 30,
    "start_time": "2024-04-29T12:16:02.323Z"
   },
   {
    "duration": 26,
    "start_time": "2024-04-29T12:16:17.005Z"
   },
   {
    "duration": 9,
    "start_time": "2024-04-29T12:17:54.786Z"
   },
   {
    "duration": 55,
    "start_time": "2024-04-29T12:23:35.692Z"
   },
   {
    "duration": 6,
    "start_time": "2024-04-29T12:23:54.836Z"
   },
   {
    "duration": 256,
    "start_time": "2024-04-29T12:24:31.042Z"
   },
   {
    "duration": 392,
    "start_time": "2024-04-29T12:24:45.076Z"
   },
   {
    "duration": 258,
    "start_time": "2024-04-29T12:26:00.528Z"
   },
   {
    "duration": 3,
    "start_time": "2024-04-29T12:26:14.551Z"
   },
   {
    "duration": 3,
    "start_time": "2024-04-29T12:26:22.981Z"
   },
   {
    "duration": 6,
    "start_time": "2024-04-29T12:28:03.232Z"
   },
   {
    "duration": 9,
    "start_time": "2024-04-29T12:29:07.296Z"
   },
   {
    "duration": 7,
    "start_time": "2024-04-29T12:30:35.044Z"
   },
   {
    "duration": 5,
    "start_time": "2024-04-29T12:31:00.986Z"
   },
   {
    "duration": 4,
    "start_time": "2024-04-29T12:31:25.871Z"
   },
   {
    "duration": 4,
    "start_time": "2024-04-29T12:31:54.393Z"
   },
   {
    "duration": 17,
    "start_time": "2024-04-29T12:32:09.608Z"
   },
   {
    "duration": 38,
    "start_time": "2024-04-29T12:32:44.214Z"
   },
   {
    "duration": 31,
    "start_time": "2024-04-29T12:33:20.514Z"
   },
   {
    "duration": 25,
    "start_time": "2024-04-29T12:33:41.317Z"
   },
   {
    "duration": 15,
    "start_time": "2024-04-29T12:34:02.009Z"
   },
   {
    "duration": 15,
    "start_time": "2024-04-29T12:35:02.181Z"
   },
   {
    "duration": 16,
    "start_time": "2024-04-29T12:35:09.156Z"
   },
   {
    "duration": 3,
    "start_time": "2024-04-29T13:20:41.329Z"
   },
   {
    "duration": 10,
    "start_time": "2024-04-29T13:20:42.149Z"
   },
   {
    "duration": 3,
    "start_time": "2024-04-29T13:23:19.390Z"
   },
   {
    "duration": 7,
    "start_time": "2024-04-29T13:23:20.647Z"
   },
   {
    "duration": 5,
    "start_time": "2024-04-29T13:24:15.651Z"
   },
   {
    "duration": 6,
    "start_time": "2024-04-29T13:46:09.700Z"
   },
   {
    "duration": 3,
    "start_time": "2024-04-29T13:46:35.513Z"
   },
   {
    "duration": 3,
    "start_time": "2024-04-29T13:47:37.474Z"
   },
   {
    "duration": 6,
    "start_time": "2024-04-29T13:58:20.580Z"
   },
   {
    "duration": 3,
    "start_time": "2024-04-29T13:58:24.071Z"
   },
   {
    "duration": 3,
    "start_time": "2024-04-29T13:59:01.451Z"
   },
   {
    "duration": 10,
    "start_time": "2024-04-29T13:59:02.059Z"
   },
   {
    "duration": 11,
    "start_time": "2024-04-29T14:00:52.604Z"
   },
   {
    "duration": 16,
    "start_time": "2024-04-29T14:00:57.097Z"
   },
   {
    "duration": 384,
    "start_time": "2024-04-30T14:59:49.432Z"
   },
   {
    "duration": 269,
    "start_time": "2024-04-30T14:59:49.818Z"
   },
   {
    "duration": 23,
    "start_time": "2024-04-30T14:59:50.089Z"
   },
   {
    "duration": 15,
    "start_time": "2024-04-30T14:59:50.114Z"
   },
   {
    "duration": 16,
    "start_time": "2024-04-30T14:59:50.131Z"
   },
   {
    "duration": 43,
    "start_time": "2024-04-30T14:59:50.148Z"
   },
   {
    "duration": 4,
    "start_time": "2024-04-30T14:59:50.193Z"
   },
   {
    "duration": 6,
    "start_time": "2024-04-30T14:59:50.198Z"
   },
   {
    "duration": 17,
    "start_time": "2024-04-30T14:59:50.205Z"
   },
   {
    "duration": 4,
    "start_time": "2024-04-30T14:59:50.224Z"
   },
   {
    "duration": 19,
    "start_time": "2024-04-30T14:59:50.230Z"
   },
   {
    "duration": 7,
    "start_time": "2024-04-30T14:59:50.250Z"
   },
   {
    "duration": 46,
    "start_time": "2024-04-30T14:59:50.258Z"
   },
   {
    "duration": 11,
    "start_time": "2024-04-30T14:59:50.305Z"
   },
   {
    "duration": 12,
    "start_time": "2024-04-30T14:59:50.317Z"
   },
   {
    "duration": 15,
    "start_time": "2024-04-30T14:59:50.331Z"
   },
   {
    "duration": 20,
    "start_time": "2024-04-30T14:59:50.348Z"
   },
   {
    "duration": 30,
    "start_time": "2024-04-30T14:59:50.370Z"
   },
   {
    "duration": 3,
    "start_time": "2024-04-30T14:59:50.402Z"
   },
   {
    "duration": 20,
    "start_time": "2024-04-30T14:59:50.407Z"
   },
   {
    "duration": 16,
    "start_time": "2024-04-30T14:59:50.428Z"
   },
   {
    "duration": 8,
    "start_time": "2024-04-30T14:59:50.445Z"
   },
   {
    "duration": 35,
    "start_time": "2024-04-30T14:59:50.454Z"
   }
  ],
  "colab": {
   "provenance": []
  },
  "kernelspec": {
   "display_name": "Python 3 (ipykernel)",
   "language": "python",
   "name": "python3"
  },
  "language_info": {
   "codemirror_mode": {
    "name": "ipython",
    "version": 3
   },
   "file_extension": ".py",
   "mimetype": "text/x-python",
   "name": "python",
   "nbconvert_exporter": "python",
   "pygments_lexer": "ipython3",
   "version": "3.12.4"
  },
  "toc": {
   "base_numbering": 1,
   "nav_menu": {},
   "number_sections": true,
   "sideBar": true,
   "skip_h1_title": true,
   "title_cell": "Table of Contents",
   "title_sidebar": "Contents",
   "toc_cell": false,
   "toc_position": {},
   "toc_section_display": true,
   "toc_window_display": true
  }
 },
 "nbformat": 4,
 "nbformat_minor": 5
}
